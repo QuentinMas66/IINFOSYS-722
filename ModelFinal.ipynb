{
 "cells": [
  {
   "cell_type": "code",
   "execution_count": 11,
   "metadata": {},
   "outputs": [],
   "source": [
    "import findspark\n",
    "findspark.init('/home/ubuntu/spark-2.1.1-bin-hadoop2.7')\n",
    "import pyspark\n",
    "from pyspark.sql import SparkSession\n",
    "spark = SparkSession.builder.appName('ModelFinal').getOrCreate()"
   ]
  },
  {
   "cell_type": "code",
   "execution_count": 12,
   "metadata": {},
   "outputs": [
    {
     "name": "stdout",
     "output_type": "stream",
     "text": [
      "root\n",
      " |-- _c0: integer (nullable = true)\n",
      " |-- ACTIVITYESTIMATE: string (nullable = true)\n",
      " |-- WEEK: integer (nullable = true)\n",
      " |-- POP: integer (nullable = true)\n",
      " |-- AREA: integer (nullable = true)\n",
      " |-- HealthCare_All: double (nullable = true)\n",
      " |-- HealthCare_Over65: double (nullable = true)\n",
      " |-- INCOME: integer (nullable = true)\n",
      " |-- TypeA_subH3: integer (nullable = true)\n",
      " |-- TypeA_subH1N1: integer (nullable = true)\n",
      " |-- TypeA: integer (nullable = true)\n",
      " |-- TypeA_subH3N2: integer (nullable = true)\n",
      " |-- TypeA_subU: integer (nullable = true)\n",
      " |-- TypeA_subH1: integer (nullable = true)\n",
      " |-- PrevWeek: string (nullable = true)\n",
      " |-- NSporadic: integer (nullable = true)\n",
      " |-- NLocalAct: integer (nullable = true)\n",
      " |-- NNoAct: integer (nullable = true)\n",
      " |-- NRegional: integer (nullable = true)\n",
      " |-- NWidespread: double (nullable = true)\n",
      " |-- Density: double (nullable = true)\n",
      "\n"
     ]
    }
   ],
   "source": [
    "traintest = spark.read.csv(\"traintest2.csv\", header=True, inferSchema=True)\n",
    "traintest.printSchema()"
   ]
  },
  {
   "cell_type": "code",
   "execution_count": 13,
   "metadata": {},
   "outputs": [],
   "source": [
    "from pyspark.ml import Pipeline\n",
    "from pyspark.ml.classification import (RandomForestClassifier, GBTClassifier, DecisionTreeClassifier)\n",
    "from pyspark.ml.evaluation import MulticlassClassificationEvaluator\n",
    "\n",
    "from pyspark.ml.feature import (VectorAssembler,VectorIndexer,\n",
    "                                OneHotEncoder,StringIndexer)\n",
    "from pyspark.ml.linalg import Vectors"
   ]
  },
  {
   "cell_type": "code",
   "execution_count": 14,
   "metadata": {},
   "outputs": [],
   "source": [
    "State_indexer = StringIndexer(inputCol='STATENAME',outputCol='StateIndex')\n",
    "State_encoder = OneHotEncoder(inputCol='StateIndex',outputCol='StateVec')\n",
    "\n",
    "Activity_indexer = StringIndexer(inputCol='ACTIVITYESTIMATE',outputCol='ActivityIndex')\n",
    "Activity_encoder = OneHotEncoder(inputCol='ActivityIndex',outputCol='ActivityVec')\n",
    "\n",
    "Season_indexer = StringIndexer(inputCol='SEASON',outputCol='SeasonIndex')\n",
    "Season_encoder = OneHotEncoder(inputCol='SeasonIndex',outputCol='SeasonVec')\n",
    "\n",
    "PrevWeek_indexer = StringIndexer(inputCol='PrevWeek',outputCol='PrevWeekIndex')\n",
    "PrevWeek_encoder = OneHotEncoder(inputCol='PrevWeekIndex',outputCol='PrevWeekVec')"
   ]
  },
  {
   "cell_type": "code",
   "execution_count": 15,
   "metadata": {},
   "outputs": [],
   "source": [
    "assembler = VectorAssembler(\n",
    "  inputCols=['WEEK',\n",
    "             'POP',\n",
    "             'AREA',\n",
    "             'HealthCare_All',\n",
    "             'HealthCare_Over65',\n",
    "             'INCOME',\n",
    "             'TypeA_subH3',\n",
    "             'TypeA_subH1N1',\n",
    "             'TypeA',\n",
    "             'TypeA_subH3N2',\n",
    "             'TypeA_subU',\n",
    "             'TypeA_subH1',\n",
    "             'PrevWeekVec',\n",
    "             'NSporadic',\n",
    "             'NLocalAct',\n",
    "             'NNoAct',\n",
    "             'NRegional',\n",
    "             'NWidespread',\n",
    "            'Density'],\n",
    "    outputCol=\"features\")"
   ]
  },
  {
   "cell_type": "markdown",
   "metadata": {},
   "source": [
    "# Final Model"
   ]
  },
  {
   "cell_type": "code",
   "execution_count": 18,
   "metadata": {},
   "outputs": [
    {
     "name": "stdout",
     "output_type": "stream",
     "text": [
      "0.793040293040293\n"
     ]
    }
   ],
   "source": [
    "dt = DecisionTreeClassifier(labelCol=\"ActivityIndex\", featuresCol=\"features\", maxDepth=5, maxBins=40,minInstancesPerNode=11)\n",
    "pipeline = Pipeline(stages=[Activity_indexer,PrevWeek_indexer,\n",
    "                               Activity_encoder,PrevWeek_encoder,\n",
    "                               assembler,dt])\n",
    "\n",
    "(train, test) = traintest.randomSplit([0.9, 0.1])\n",
    "\n",
    "fit_model = pipeline.fit(train)\n",
    "\n",
    "prediction_dt = fit_model.transform(test)\n",
    "\n",
    "evaluator = MulticlassClassificationEvaluator(labelCol=\"ActivityIndex\", predictionCol=\"prediction\", metricName=\"accuracy\")\n",
    "print(evaluator.evaluate(prediction_dt))"
   ]
  },
  {
   "cell_type": "markdown",
   "metadata": {},
   "source": [
    "# K -fold"
   ]
  },
  {
   "cell_type": "code",
   "execution_count": 16,
   "metadata": {},
   "outputs": [],
   "source": [
    "kfold = []\n",
    "for k in range (0,10):\n",
    "    dt = DecisionTreeClassifier(labelCol=\"ActivityIndex\", featuresCol=\"features\", maxDepth=5, maxBins=40,minInstancesPerNode=11)\n",
    "    pipeline = Pipeline(stages=[Activity_indexer,PrevWeek_indexer,\n",
    "                               Activity_encoder,PrevWeek_encoder,\n",
    "                               assembler,dt])\n",
    "\n",
    "    (train, test) = traintest.randomSplit([0.9, 0.1])\n",
    "\n",
    "    fit_model = pipeline.fit(train)\n",
    "\n",
    "    prediction_dt = fit_model.transform(test)\n",
    "\n",
    "    evaluator = MulticlassClassificationEvaluator(labelCol=\"ActivityIndex\", predictionCol=\"prediction\", metricName=\"accuracy\")\n",
    "    kfold.append(evaluator.evaluate(prediction_dt))\n"
   ]
  },
  {
   "cell_type": "code",
   "execution_count": 17,
   "metadata": {},
   "outputs": [
    {
     "data": {
      "text/plain": [
       "{'boxes': [<matplotlib.lines.Line2D at 0x7fc861306390>],\n",
       " 'caps': [<matplotlib.lines.Line2D at 0x7fc86130c940>,\n",
       "  <matplotlib.lines.Line2D at 0x7fc86130c128>],\n",
       " 'fliers': [<matplotlib.lines.Line2D at 0x7fc861309748>],\n",
       " 'means': [],\n",
       " 'medians': [<matplotlib.lines.Line2D at 0x7fc86130c6d8>],\n",
       " 'whiskers': [<matplotlib.lines.Line2D at 0x7fc8613064e0>,\n",
       "  <matplotlib.lines.Line2D at 0x7fc8613063c8>]}"
      ]
     },
     "execution_count": 17,
     "metadata": {},
     "output_type": "execute_result"
    },
    {
     "data": {
      "image/png": "[encoded data removed]",
      "text/plain": [
       "<Figure size 432x288 with 1 Axes>"
      ]
     },
     "metadata": {},
     "output_type": "display_data"
    }
   ],
   "source": [
    "import matplotlib.pyplot as plt \n",
    "\n",
    "fig1, ax1 = plt.subplots()\n",
    "plt.ylabel('Accuracy')\n",
    "ax1.boxplot(kfold)"
   ]
  },
  {
   "cell_type": "code",
   "execution_count": null,
   "metadata": {},
   "outputs": [],
   "source": []
  }
 ],
 "metadata": {
  "kernelspec": {
   "display_name": "Python 3",
   "language": "python",
   "name": "python3"
  },
  "language_info": {
   "codemirror_mode": {
    "name": "ipython",
    "version": 3
   },
   "file_extension": ".py",
   "mimetype": "text/x-python",
   "name": "python",
   "nbconvert_exporter": "python",
   "pygments_lexer": "ipython3",
   "version": "3.5.2"
  }
 },
 "nbformat": 4,
 "nbformat_minor": 2
}
