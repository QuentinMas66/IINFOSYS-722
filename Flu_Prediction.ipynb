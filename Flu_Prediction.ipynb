{
 "cells": [
  {
   "cell_type": "code",
   "execution_count": 1,
   "metadata": {},
   "outputs": [],
   "source": [
    "import findspark\n",
    "findspark.init('/home/ubuntu/spark-2.1.1-bin-hadoop2.7')\n",
    "import pyspark\n",
    "from pyspark.sql import SparkSession\n",
    "spark = SparkSession.builder.appName('FluPrediction').getOrCreate()"
   ]
  },
  {
   "cell_type": "code",
   "execution_count": 2,
   "metadata": {},
   "outputs": [],
   "source": [
    "Flu = spark.read.format(\"csv\").option(\"header\", \"true\").option(\"delimiter\", \";\").load(\"Data/FluView.csv\")\n",
    "\n",
    "Area = spark.read.format(\"csv\").option(\"header\", \"true\").option(\"delimiter\", \"\\t\").load(\"Data/Area.csv\")\n",
    "Income = spark.read.format(\"csv\").option(\"header\", \"true\").load(\"Data/Income.csv\")\n",
    "Health = spark.read.format(\"csv\").option(\"header\", \"true\").option(\"delimiter\", \";\").load(\"Data/HealthCare.csv\")\n",
    "Virus = spark.read.format(\"csv\").option(\"header\", \"true\").load(\"Data/typeVirus.csv\")\n",
    "Population = spark.read.format(\"csv\").option(\"header\", \"true\").option(\"delimiter\", \"\\t\").load(\"Data/population.csv\")"
   ]
  },
  {
   "cell_type": "code",
   "execution_count": 3,
   "metadata": {
    "scrolled": false
   },
   "outputs": [
    {
     "name": "stdout",
     "output_type": "stream",
     "text": [
      "+---------+----------------+-----------+----+-------+\n",
      "|STATENAME|ACTIVITYESTIMATE|    WEEKEND|WEEK| SEASON|\n",
      "+---------+----------------+-----------+----+-------+\n",
      "|  Alabama|     No Activity|Oct-04-2003|  40|2003-04|\n",
      "|  Alabama|     No Activity|Oct-11-2003|  41|2003-04|\n",
      "|  Alabama|     No Activity|Oct-18-2003|  42|2003-04|\n",
      "|  Alabama|  Local Activity|Oct-25-2003|  43|2003-04|\n",
      "|  Alabama|        Sporadic|Nov-01-2003|  44|2003-04|\n",
      "+---------+----------------+-----------+----+-------+\n",
      "only showing top 5 rows\n",
      "\n"
     ]
    },
    {
     "data": {
      "text/plain": [
       "['STATENAME', 'ACTIVITYESTIMATE', 'WEEKEND', 'WEEK', 'SEASON']"
      ]
     },
     "execution_count": 3,
     "metadata": {},
     "output_type": "execute_result"
    }
   ],
   "source": [
    "Flu.show(n=5) \n",
    "Flu.columns"
   ]
  },
  {
   "cell_type": "code",
   "execution_count": 4,
   "metadata": {},
   "outputs": [
    {
     "name": "stdout",
     "output_type": "stream",
     "text": [
      "+----------+-------+\n",
      "| STATENAME|   AREA|\n",
      "+----------+-------+\n",
      "|   Alabama| 135767|\n",
      "|    Alaska|1723337|\n",
      "|   Arizona| 295234|\n",
      "|  Arkansas| 137732|\n",
      "|California| 423967|\n",
      "+----------+-------+\n",
      "only showing top 5 rows\n",
      "\n"
     ]
    },
    {
     "data": {
      "text/plain": [
       "['STATENAME', 'AREA']"
      ]
     },
     "execution_count": 4,
     "metadata": {},
     "output_type": "execute_result"
    }
   ],
   "source": [
    "Area.show(n=5) \n",
    "Area.columns"
   ]
  },
  {
   "cell_type": "code",
   "execution_count": 5,
   "metadata": {},
   "outputs": [
    {
     "name": "stdout",
     "output_type": "stream",
     "text": [
      "+---+----------+------+-------+\n",
      "|_c0| STATENAME|INCOME| SEASON|\n",
      "+---+----------+------+-------+\n",
      "|  2|   Alabama| 51113|2017-18|\n",
      "|  3|    Alaska| 72231|2017-18|\n",
      "|  4|   Arizona| 61125|2017-18|\n",
      "|  5|  Arkansas| 48829|2017-18|\n",
      "|  6|California| 69759|2017-18|\n",
      "+---+----------+------+-------+\n",
      "only showing top 5 rows\n",
      "\n"
     ]
    },
    {
     "data": {
      "text/plain": [
       "['_c0', 'STATENAME', 'INCOME', 'SEASON']"
      ]
     },
     "execution_count": 5,
     "metadata": {},
     "output_type": "execute_result"
    }
   ],
   "source": [
    "Income.show(n=5) \n",
    "Income.columns"
   ]
  },
  {
   "cell_type": "code",
   "execution_count": 6,
   "metadata": {},
   "outputs": [
    {
     "name": "stdout",
     "output_type": "stream",
     "text": [
      "+----------+-----------+--------------+--------------+-----------------+\n",
      "| STATENAME|All persons|Under 65 years|Under 18 years|65 years and over|\n",
      "+----------+-----------+--------------+--------------+-----------------+\n",
      "|   Alabama|       84,6|          82,3|          91,1|             98,5|\n",
      "|    Alaska|       85,2|          82,9|          91,8|             99,8|\n",
      "|   Arizona|         81|          79,3|          83,5|             96,5|\n",
      "|  Arkansas|         82|          79,3|          86,3|             97,3|\n",
      "|California|       81,6|          78,6|          91,7|               98|\n",
      "+----------+-----------+--------------+--------------+-----------------+\n",
      "only showing top 5 rows\n",
      "\n"
     ]
    },
    {
     "data": {
      "text/plain": [
       "['STATENAME',\n",
       " 'All persons',\n",
       " 'Under 65 years',\n",
       " 'Under 18 years',\n",
       " '65 years and over']"
      ]
     },
     "execution_count": 6,
     "metadata": {},
     "output_type": "execute_result"
    }
   ],
   "source": [
    "Health.show(n=5) \n",
    "Health.columns"
   ]
  },
  {
   "cell_type": "code",
   "execution_count": 7,
   "metadata": {},
   "outputs": [
    {
     "name": "stdout",
     "output_type": "stream",
     "text": [
      "+---+----+-------+---+-----+---+---+---+---+----+---+---+\n",
      "|_c0|WEEK| SEASON|AH3|AH1N1|  A|BVL|BYL|  B|H3N2| AU|AH1|\n",
      "+---+----+-------+---+-----+---+---+---+---+----+---+---+\n",
      "|  1|  40|2018-19| 11|   29|  8|  7| 11|  0|   0|  0|  0|\n",
      "|  2|  41|2018-19| 11|   49|  8|  3|  5|  5|   0|  0|  0|\n",
      "|  3|  42|2018-19| 18|   48| 13|  1| 12|  1|   0|  0|  0|\n",
      "|  4|  43|2018-19| 33|   73|  2|  0| 12|  2|   0|  0|  0|\n",
      "|  5|  44|2018-19| 20|   77|  3|  1|  8|  1|   0|  0|  0|\n",
      "+---+----+-------+---+-----+---+---+---+---+----+---+---+\n",
      "only showing top 5 rows\n",
      "\n"
     ]
    },
    {
     "data": {
      "text/plain": [
       "['_c0',\n",
       " 'WEEK',\n",
       " 'SEASON',\n",
       " 'AH3',\n",
       " 'AH1N1',\n",
       " 'A',\n",
       " 'BVL',\n",
       " 'BYL',\n",
       " 'B',\n",
       " 'H3N2',\n",
       " 'AU',\n",
       " 'AH1']"
      ]
     },
     "execution_count": 7,
     "metadata": {},
     "output_type": "execute_result"
    }
   ],
   "source": [
    "Virus.show(n=5) \n",
    "Virus.columns"
   ]
  },
  {
   "cell_type": "code",
   "execution_count": 8,
   "metadata": {},
   "outputs": [
    {
     "name": "stdout",
     "output_type": "stream",
     "text": [
      "+----------+--------+-------+\n",
      "| STATENAME|     POP| SEASON|\n",
      "+----------+--------+-------+\n",
      "|   Alabama| 4503491|2003-04|\n",
      "|    Alaska|  648414|2003-04|\n",
      "|   Arizona| 5510364|2003-04|\n",
      "|  Arkansas| 2724816|2003-04|\n",
      "|California|35253159|2003-04|\n",
      "+----------+--------+-------+\n",
      "only showing top 5 rows\n",
      "\n"
     ]
    },
    {
     "data": {
      "text/plain": [
       "['STATENAME', 'POP', 'SEASON']"
      ]
     },
     "execution_count": 8,
     "metadata": {},
     "output_type": "execute_result"
    }
   ],
   "source": [
    "Population.show(n=5) \n",
    "Population.columns"
   ]
  },
  {
   "cell_type": "code",
   "execution_count": 9,
   "metadata": {
    "scrolled": true
   },
   "outputs": [
    {
     "name": "stdout",
     "output_type": "stream",
     "text": [
      "+-------+---------+----------------+-----------+------------------+-------+\n",
      "|summary|STATENAME|ACTIVITYESTIMATE|    WEEKEND|              WEEK| SEASON|\n",
      "+-------+---------+----------------+-----------+------------------+-------+\n",
      "|  count|    29104|           29104|      29104|             29104|  29104|\n",
      "|   mean|     null|            null|       null|24.787073941726224|   null|\n",
      "| stddev|     null|            null|       null| 17.88996084805653|   null|\n",
      "|    min|  Alabama|  Local Activity|Apr-01-2006|                 1|2003-04|\n",
      "|    max|  Wyoming|      Widespread|Sep-26-2009|                 9|2018-19|\n",
      "+-------+---------+----------------+-----------+------------------+-------+\n",
      "\n",
      "+-------+---------+------------------+\n",
      "|summary|STATENAME|              AREA|\n",
      "+-------+---------+------------------+\n",
      "|  count|       57|                57|\n",
      "|   mean|     null|154560.36842105264|\n",
      "| stddev|     null|248208.14633716136|\n",
      "|    min|  Alabama|            104656|\n",
      "|    max|  Wyoming|              9998|\n",
      "+-------+---------+------------------+\n",
      "\n",
      "+-------+------------------+---------+------------------+-------+\n",
      "|summary|               _c0|STATENAME|            INCOME| SEASON|\n",
      "+-------+------------------+---------+------------------+-------+\n",
      "|  count|               816|      816|               816|    816|\n",
      "|   mean|             417.0|     null|51651.013480392154|   null|\n",
      "| stddev|240.30696116180673|     null| 9347.196205499946|   null|\n",
      "|    min|                10|  Alabama|             32002| 2003-4|\n",
      "|    max|                99|  Wyoming|             83382|2017-18|\n",
      "+-------+------------------+---------+------------------+-------+\n",
      "\n",
      "+-------+---------+-----------------+--------------+------------------+------------------+\n",
      "|summary|STATENAME|      All persons|Under 65 years|    Under 18 years| 65 years and over|\n",
      "+-------+---------+-----------------+--------------+------------------+------------------+\n",
      "|  count|       51|               52|            52|                52|                52|\n",
      "|   mean|     null|86.33333333333333|          82.0|              87.5| 98.66666666666667|\n",
      "| stddev|     null|4.412104562073146|           2.0|3.5355339059327378|0.5773502691896258|\n",
      "|    min|  Alabama|             75,4|          72,8|              81,7|              96,5|\n",
      "|    max|  Wyoming|             95,9|          95,2|              97,9|              99,9|\n",
      "+-------+---------+-----------------+--------------+------------------+------------------+\n",
      "\n",
      "+-------+-----------------+------------------+-------+------------------+------------------+------------------+-----------------+------------------+-----------------+-------------------+------------------+------------------+\n",
      "|summary|              _c0|              WEEK| SEASON|               AH3|             AH1N1|                 A|              BVL|               BYL|                B|               H3N2|                AU|               AH1|\n",
      "+-------+-----------------+------------------+-------+------------------+------------------+------------------+-----------------+------------------+-----------------+-------------------+------------------+------------------+\n",
      "|  count|              827|               827|    827|               827|               827|               827|              827|               827|              827|                827|               827|               827|\n",
      "|   mean|            414.0|26.533252720677147|   null|239.71825876662635|299.41519434628975|19.663845223700122|             29.5|             98.03|59.68923821039903|0.44014510278113667|0.9987908101571947|17.088270858524787|\n",
      "| stddev|238.8786302706879|15.161912087461774|   null| 540.0469862912779| 793.5078471034432|49.923119452799945|39.27073916765344|172.80014045918352|104.9855930057322|  4.695032043225055|7.5572871677025235| 74.44611093730327|\n",
      "|    min|                1|                 1| 2003-4|                 0|                 0|                 0|                0|                 0|                0|                  0|                 0|                 0|\n",
      "|    max|               99|                 9|2018-19|               997|                NA|                98|               NA|                NA|               98|                 94|                 9|                98|\n",
      "+-------+-----------------+------------------+-------+------------------+------------------+------------------+-----------------+------------------+-----------------+-------------------+------------------+------------------+\n",
      "\n",
      "+-------+---------+-----------------+-------+\n",
      "|summary|STATENAME|              POP| SEASON|\n",
      "+-------+---------+-----------------+-------+\n",
      "|  count|      816|              816|    816|\n",
      "|   mean|     null|6071396.414215687|   null|\n",
      "| stddev|     null|6819471.360813925|   null|\n",
      "|    min|  Alabama|         10001284|2003-04|\n",
      "|    max|  Wyoming|          9995915|2018-19|\n",
      "+-------+---------+-----------------+-------+\n",
      "\n"
     ]
    }
   ],
   "source": [
    "Flu.describe().show()\n",
    "Area.describe().show()\n",
    "Income.describe().show()\n",
    "Health.describe().show()\n",
    "Virus.describe().show()\n",
    "Population.describe().show()"
   ]
  },
  {
   "cell_type": "code",
   "execution_count": 10,
   "metadata": {
    "scrolled": true
   },
   "outputs": [
    {
     "name": "stdout",
     "output_type": "stream",
     "text": [
      "root\n",
      " |-- STATENAME: string (nullable = true)\n",
      " |-- ACTIVITYESTIMATE: string (nullable = true)\n",
      " |-- WEEKEND: string (nullable = true)\n",
      " |-- WEEK: string (nullable = true)\n",
      " |-- SEASON: string (nullable = true)\n",
      "\n",
      "root\n",
      " |-- STATENAME: string (nullable = true)\n",
      " |-- AREA: string (nullable = true)\n",
      "\n",
      "root\n",
      " |-- _c0: string (nullable = true)\n",
      " |-- STATENAME: string (nullable = true)\n",
      " |-- INCOME: string (nullable = true)\n",
      " |-- SEASON: string (nullable = true)\n",
      "\n",
      "root\n",
      " |-- STATENAME: string (nullable = true)\n",
      " |-- All persons: string (nullable = true)\n",
      " |-- Under 65 years: string (nullable = true)\n",
      " |-- Under 18 years: string (nullable = true)\n",
      " |-- 65 years and over: string (nullable = true)\n",
      "\n",
      "root\n",
      " |-- _c0: string (nullable = true)\n",
      " |-- WEEK: string (nullable = true)\n",
      " |-- SEASON: string (nullable = true)\n",
      " |-- AH3: string (nullable = true)\n",
      " |-- AH1N1: string (nullable = true)\n",
      " |-- A: string (nullable = true)\n",
      " |-- BVL: string (nullable = true)\n",
      " |-- BYL: string (nullable = true)\n",
      " |-- B: string (nullable = true)\n",
      " |-- H3N2: string (nullable = true)\n",
      " |-- AU: string (nullable = true)\n",
      " |-- AH1: string (nullable = true)\n",
      "\n",
      "root\n",
      " |-- STATENAME: string (nullable = true)\n",
      " |-- POP: string (nullable = true)\n",
      " |-- SEASON: string (nullable = true)\n",
      "\n"
     ]
    }
   ],
   "source": [
    "Flu.printSchema()\n",
    "Area.printSchema()\n",
    "Income.printSchema()\n",
    "Health.printSchema()\n",
    "Virus.printSchema()\n",
    "Population.printSchema()"
   ]
  },
  {
   "cell_type": "code",
   "execution_count": 11,
   "metadata": {},
   "outputs": [],
   "source": [
    "from pyspark.sql.types import (StructField,StringType,IntegerType,StructType,FloatType)"
   ]
  },
  {
   "cell_type": "code",
   "execution_count": 12,
   "metadata": {},
   "outputs": [
    {
     "name": "stdout",
     "output_type": "stream",
     "text": [
      "root\n",
      " |-- STATENAME: string (nullable = true)\n",
      " |-- ACTIVITYESTIMATE: string (nullable = true)\n",
      " |-- WEEK: integer (nullable = true)\n",
      " |-- SEASON: string (nullable = true)\n",
      "\n"
     ]
    }
   ],
   "source": [
    "data_schema = [StructField('STATENAME',StringType(),True),\n",
    "              StructField('ACTIVITYESTIMATE',StringType(),True),\n",
    "              StructField('WEEKEND',StringType(),True),\n",
    "              StructField('WEEK',IntegerType(),True),\n",
    "              StructField('SEASON',StringType(),True)]\n",
    "\n",
    "final_struct = StructType(fields=data_schema)\n",
    "\n",
    "Flu = spark.read.format(\"csv\").option(\"header\", \"true\").option(\"delimiter\", \";\").schema(final_struct).load(\"Data/FluView.csv\") \n",
    "Flu = Flu.drop('WEEKEND')\n",
    "Flu.printSchema()"
   ]
  },
  {
   "cell_type": "code",
   "execution_count": 13,
   "metadata": {},
   "outputs": [
    {
     "name": "stdout",
     "output_type": "stream",
     "text": [
      "root\n",
      " |-- STATENAME: string (nullable = true)\n",
      " |-- AREA: integer (nullable = true)\n",
      "\n",
      "+----------+-------+\n",
      "| STATENAME|   AREA|\n",
      "+----------+-------+\n",
      "|   Alabama| 135767|\n",
      "|    Alaska|1723337|\n",
      "|   Arizona| 295234|\n",
      "|  Arkansas| 137732|\n",
      "|California| 423967|\n",
      "+----------+-------+\n",
      "only showing top 5 rows\n",
      "\n"
     ]
    }
   ],
   "source": [
    "data_schema_Area = [StructField('STATENAME',StringType(),True),\n",
    "              StructField('AREA',IntegerType(),True)]\n",
    "\n",
    "final_struct_Area = StructType(fields=data_schema_Area)\n",
    "\n",
    "Area = spark.read.format(\"csv\").option(\"header\", \"true\").option(\"delimiter\", \"\\t\").schema(final_struct_Area).load(\"Data/Area.csv\") \n",
    "\n",
    "Area.printSchema()\n",
    "Area.show(n=5) \n"
   ]
  },
  {
   "cell_type": "code",
   "execution_count": 14,
   "metadata": {},
   "outputs": [
    {
     "name": "stdout",
     "output_type": "stream",
     "text": [
      "root\n",
      " |-- STATENAME: string (nullable = true)\n",
      " |-- INCOME: integer (nullable = true)\n",
      " |-- SEASON: string (nullable = true)\n",
      "\n",
      "+----------+------+-------+\n",
      "| STATENAME|INCOME| SEASON|\n",
      "+----------+------+-------+\n",
      "|   Alabama| 51113|2017-18|\n",
      "|    Alaska| 72231|2017-18|\n",
      "|   Arizona| 61125|2017-18|\n",
      "|  Arkansas| 48829|2017-18|\n",
      "|California| 69759|2017-18|\n",
      "+----------+------+-------+\n",
      "only showing top 5 rows\n",
      "\n"
     ]
    }
   ],
   "source": [
    "data_schema_income = [StructField('_c0',StringType(),True),\n",
    "              StructField('STATENAME',StringType(),True),\n",
    "              StructField('INCOME',IntegerType(),True),\n",
    "              StructField('SEASON',StringType(),True)]\n",
    "\n",
    "final_struct_income = StructType(fields=data_schema_income)\n",
    "\n",
    "Income = spark.read.format(\"csv\").option(\"header\", \"true\").schema(final_struct_income).load(\"Data/Income.csv\") \n",
    "Income = Income.drop('_c0')\n",
    "Income.printSchema()\n",
    "Income.show(n=5) "
   ]
  },
  {
   "cell_type": "code",
   "execution_count": 15,
   "metadata": {},
   "outputs": [
    {
     "name": "stdout",
     "output_type": "stream",
     "text": [
      "root\n",
      " |-- STATENAME: string (nullable = true)\n",
      " |-- All persons: float (nullable = true)\n",
      " |-- Under 65 years: float (nullable = true)\n",
      " |-- Under 18 years: float (nullable = true)\n",
      " |-- 65 years and over: float (nullable = true)\n",
      "\n",
      "+----------+--------------+------------------+------------------+-----------------+\n",
      "| STATENAME|HealthCare_All|HealthCare_Under65|HealthCare_Under18|HealthCare_Over65|\n",
      "+----------+--------------+------------------+------------------+-----------------+\n",
      "|   Alabama|          84.6|              82.3|              91.1|             98.5|\n",
      "|    Alaska|          85.2|              82.9|              91.8|             99.8|\n",
      "|   Arizona|          81.0|              79.3|              83.5|             96.5|\n",
      "|  Arkansas|          82.0|              79.3|              86.3|             97.3|\n",
      "|California|          81.6|              78.6|              91.7|             98.0|\n",
      "+----------+--------------+------------------+------------------+-----------------+\n",
      "only showing top 5 rows\n",
      "\n"
     ]
    }
   ],
   "source": [
    "Health = spark.read.format(\"csv\").option(\"header\", \"true\").option(\"delimiter\", \";\").load(\"Data/HealthCare.csv\")\n",
    "\n",
    "from pyspark.sql.functions import *\n",
    "Health = Health.withColumn('65 years and over',regexp_replace('65 years and over', ',', '.').cast('float'))\n",
    "Health = Health.withColumn('Under 65 years',regexp_replace('Under 65 years', ',', '.').cast('float'))\n",
    "Health = Health.withColumn('Under 18 years',regexp_replace('Under 18 years', ',', '.').cast('float'))\n",
    "Health = Health.withColumn('All persons',regexp_replace('All persons', ',', '.').cast('float'))\n",
    "\n",
    "Health.printSchema()\n",
    "\n",
    "Health = Health.withColumnRenamed('All persons', 'HealthCare_All')\n",
    "Health = Health.withColumnRenamed('Under 65 years', 'HealthCare_Under65')\n",
    "Health = Health.withColumnRenamed('Under 18 years', 'HealthCare_Under18')\n",
    "Health = Health.withColumnRenamed('65 years and over', 'HealthCare_Over65')\n",
    "\n",
    "Health.show(n=5)"
   ]
  },
  {
   "cell_type": "code",
   "execution_count": 16,
   "metadata": {},
   "outputs": [
    {
     "name": "stdout",
     "output_type": "stream",
     "text": [
      "root\n",
      " |-- _c0: integer (nullable = true)\n",
      " |-- WEEK: integer (nullable = true)\n",
      " |-- SEASON: string (nullable = true)\n",
      " |-- AH3: integer (nullable = true)\n",
      " |-- AH1N1: integer (nullable = true)\n",
      " |-- A: integer (nullable = true)\n",
      " |-- BVL: integer (nullable = true)\n",
      " |-- BYL: integer (nullable = true)\n",
      " |-- B: integer (nullable = true)\n",
      " |-- H3N2: integer (nullable = true)\n",
      " |-- AU: integer (nullable = true)\n",
      " |-- AH1: integer (nullable = true)\n",
      "\n",
      "+-------+-----------------+------------------+-------+------------------+------------------+------------------+-----------------+------------------+-----------------+-------------------+------------------+------------------+\n",
      "|summary|              _c0|              WEEK| SEASON|               AH3|             AH1N1|                 A|              BVL|               BYL|                B|               H3N2|                AU|               AH1|\n",
      "+-------+-----------------+------------------+-------+------------------+------------------+------------------+-----------------+------------------+-----------------+-------------------+------------------+------------------+\n",
      "|  count|              827|               827|    827|               827|               566|               827|              200|               200|              827|                827|               827|               827|\n",
      "|   mean|            414.0|26.533252720677147|   null|239.71825876662635|299.41519434628975|19.663845223700122|             29.5|             98.03|59.68923821039903|0.44014510278113667|0.9987908101571947|17.088270858524787|\n",
      "| stddev|238.8786302706879|15.161912087461774|   null| 540.0469862912779| 793.5078471034432|49.923119452799945|39.27073916765344|172.80014045918352|104.9855930057322|  4.695032043225055|7.5572871677025235| 74.44611093730327|\n",
      "|    min|                1|                 1| 2003-4|                 0|                 0|                 0|                0|                 0|                0|                  0|                 0|                 0|\n",
      "|    max|              827|                57|2018-19|              3637|              7284|               470|              190|               860|              667|                 94|               170|               787|\n",
      "+-------+-----------------+------------------+-------+------------------+------------------+------------------+-----------------+------------------+-----------------+-------------------+------------------+------------------+\n",
      "\n"
     ]
    }
   ],
   "source": [
    "#data_schema_virus = [StructField('_c0',StringType(),True),\n",
    "#              StructField('WEEK',IntegerType(),True),\n",
    "#              StructField('SEASON',StringType(),True),\n",
    "#              StructField('AH3',IntegerType(),True),\n",
    "#              StructField('AH1N1',IntegerType(),True),\n",
    "#              StructField('A',IntegerType(),True),\n",
    "#              StructField('BVL',IntegerType(),True),\n",
    "#              StructField('BYL',IntegerType(),True),\n",
    "#              StructField('B',IntegerType(),True),\n",
    "#              StructField('H3N2',IntegerType(),True),\n",
    "#              StructField('AU',IntegerType(),True),\n",
    "#              StructField('AH1',IntegerType(),True)]\n",
    "\n",
    "#final_struct_virus = StructType(fields=data_schema_virus)\n",
    "#Virus = spark.read.format(\"csv\").option(\"header\", \"true\").schema(final_struct_virus).load(\"Data/typeVirus.csv\")\n",
    "#Virus.describe().show()\n",
    "#Virus.printSchema()\n",
    "\n",
    "Virus = spark.read.csv(\"Data/typeVirus.csv\", header=True, inferSchema=True)\n",
    "\n",
    "Virus = Virus.withColumn('AH1N1',Virus['AH1N1'].cast('integer'))\n",
    "Virus = Virus.withColumn('BVL',Virus['BVL'].cast('integer'))\n",
    "Virus = Virus.withColumn('BYL',Virus['BYL'].cast('integer'))\n",
    "Virus.printSchema()\n",
    "Virus.describe().show()\n",
    "\n",
    "\n",
    "\n",
    "Virus = Virus.withColumnRenamed('AH3', 'TypeA_subH3')\n",
    "Virus = Virus.withColumnRenamed('AH1N1', 'TypeA_subH1N1')\n",
    "Virus = Virus.withColumnRenamed('A', 'TypeA')\n",
    "Virus = Virus.withColumnRenamed('AU', 'TypeA_subU')\n",
    "Virus = Virus.withColumnRenamed('AH1', 'TypeA_subH1')\n",
    "Virus = Virus.withColumnRenamed('H3N2', 'TypeA_subH3N2')\n",
    "Virus = Virus.withColumnRenamed('B', 'TypeB')\n",
    "Virus = Virus.withColumnRenamed('BVL', 'TypeB_subVL')\n",
    "Virus = Virus.withColumnRenamed('BYL', 'TypeB_subYL')\n",
    "\n",
    "#Virus.show(n=5)\n"
   ]
  },
  {
   "cell_type": "code",
   "execution_count": 17,
   "metadata": {},
   "outputs": [
    {
     "name": "stdout",
     "output_type": "stream",
     "text": [
      "root\n",
      " |-- STATENAME: string (nullable = true)\n",
      " |-- POP: integer (nullable = true)\n",
      " |-- SEASON: string (nullable = true)\n",
      "\n",
      "+----------+--------+-------+\n",
      "| STATENAME|     POP| SEASON|\n",
      "+----------+--------+-------+\n",
      "|   Alabama| 4503491|2003-04|\n",
      "|    Alaska|  648414|2003-04|\n",
      "|   Arizona| 5510364|2003-04|\n",
      "|  Arkansas| 2724816|2003-04|\n",
      "|California|35253159|2003-04|\n",
      "+----------+--------+-------+\n",
      "only showing top 5 rows\n",
      "\n"
     ]
    }
   ],
   "source": [
    "data_schema_pop = [StructField('STATENAME',StringType(),True),\n",
    "              StructField('POP',IntegerType(),True),\n",
    "              StructField('SEASON',StringType(),True)]\n",
    "\n",
    "final_struct_pop = StructType(fields=data_schema_pop)\n",
    "\n",
    "Population = spark.read.format(\"csv\").option(\"header\", \"true\").option(\"delimiter\", \"\\t\").schema(final_struct_pop).load(\"Data/population.csv\")\n",
    "\n",
    "Population.printSchema()\n",
    "Population.show(n=5)"
   ]
  },
  {
   "cell_type": "code",
   "execution_count": 18,
   "metadata": {},
   "outputs": [],
   "source": [
    "Virus = Virus.withColumn('B',Virus['TypeB']+Virus['TypeB_subYL']+Virus['TypeB_subVL'])\n",
    "#Virus.show(5)\n"
   ]
  },
  {
   "cell_type": "code",
   "execution_count": 19,
   "metadata": {},
   "outputs": [
    {
     "name": "stdout",
     "output_type": "stream",
     "text": [
      "+----+-------+-----------+-------------+-----+-------------+----------+-----------+-----+\n",
      "|WEEK| SEASON|TypeA_subH3|TypeA_subH1N1|TypeA|TypeA_subH3N2|TypeA_subU|TypeA_subH1|TypeB|\n",
      "+----+-------+-----------+-------------+-----+-------------+----------+-----------+-----+\n",
      "|  40|2018-19|         11|           29|    8|            0|         0|          0|   18|\n",
      "|  41|2018-19|         11|           49|    8|            0|         0|          0|   13|\n",
      "|  42|2018-19|         18|           48|   13|            0|         0|          0|   14|\n",
      "|  43|2018-19|         33|           73|    2|            0|         0|          0|   14|\n",
      "|  44|2018-19|         20|           77|    3|            0|         0|          0|   10|\n",
      "+----+-------+-----------+-------------+-----+-------------+----------+-----------+-----+\n",
      "only showing top 5 rows\n",
      "\n",
      "root\n",
      " |-- WEEK: integer (nullable = true)\n",
      " |-- SEASON: string (nullable = true)\n",
      " |-- TypeA_subH3: integer (nullable = true)\n",
      " |-- TypeA_subH1N1: integer (nullable = true)\n",
      " |-- TypeA: integer (nullable = true)\n",
      " |-- TypeA_subH3N2: integer (nullable = true)\n",
      " |-- TypeA_subU: integer (nullable = true)\n",
      " |-- TypeA_subH1: integer (nullable = true)\n",
      " |-- TypeB: integer (nullable = true)\n",
      "\n",
      "+-------+------------------+-------+------------------+------------------+------------------+-------------------+------------------+------------------+------------------+\n",
      "|summary|              WEEK| SEASON|       TypeA_subH3|     TypeA_subH1N1|             TypeA|      TypeA_subH3N2|        TypeA_subU|       TypeA_subH1|             TypeB|\n",
      "+-------+------------------+-------+------------------+------------------+------------------+-------------------+------------------+------------------+------------------+\n",
      "|  count|               827|    827|               827|               566|               827|                827|               827|               827|               827|\n",
      "|   mean|26.533252720677147|   null|239.71825876662635|299.41519434628975|19.663845223700122|0.44014510278113667|0.9987908101571947|17.088270858524787|39.546553808948005|\n",
      "| stddev|15.161912087461774|   null| 540.0469862912779| 793.5078471034432|49.923119452799945|  4.695032043225055|7.5572871677025235| 74.44611093730327|142.14957745301487|\n",
      "|    min|                 1| 2003-4|                 0|                 0|                 0|                  0|                 0|                 0|                 0|\n",
      "|    max|                57|2018-19|              3637|              7284|               470|                 94|               170|               787|              1200|\n",
      "+-------+------------------+-------+------------------+------------------+------------------+-------------------+------------------+------------------+------------------+\n",
      "\n"
     ]
    }
   ],
   "source": [
    "Virus = Virus.drop('TypeB_subVL')\n",
    "Virus = Virus.drop('TypeB_subYL')\n",
    "Virus = Virus.drop('_c0')\n",
    "Virus = Virus.drop('TypeB')\n",
    "Virus = Virus.withColumnRenamed('B', 'TypeB')\n",
    "Virus = Virus.na.fill(0, subset=['TypeB'])\n",
    "Virus.show(5)\n",
    "Virus.printSchema()\n",
    "Virus.describe().show()"
   ]
  },
  {
   "cell_type": "markdown",
   "metadata": {},
   "source": [
    "### Merging"
   ]
  },
  {
   "cell_type": "code",
   "execution_count": 20,
   "metadata": {},
   "outputs": [
    {
     "name": "stdout",
     "output_type": "stream",
     "text": [
      "+---------+----------------+----+-------+-------+------+--------------+------------------+------------------+-----------------+------+-----------+-------------+-----+-------------+----------+-----------+-----+\n",
      "|STATENAME|ACTIVITYESTIMATE|WEEK| SEASON|    POP|  AREA|HealthCare_All|HealthCare_Under65|HealthCare_Under18|HealthCare_Over65|INCOME|TypeA_subH3|TypeA_subH1N1|TypeA|TypeA_subH3N2|TypeA_subU|TypeA_subH1|TypeB|\n",
      "+---------+----------------+----+-------+-------+------+--------------+------------------+------------------+-----------------+------+-----------+-------------+-----+-------------+----------+-----------+-----+\n",
      "|  Alabama|        Regional|  35|2009-10|4757938|135767|          84.6|              82.3|              91.1|             98.5| 39980|         12|            6|    0|            0|         0|          0|    0|\n",
      "|  Alabama|      Widespread|  36|2009-10|4757938|135767|          84.6|              82.3|              91.1|             98.5| 39980|         14|            8|    0|            0|         0|          0|    0|\n",
      "|  Alabama|      Widespread|  37|2009-10|4757938|135767|          84.6|              82.3|              91.1|             98.5| 39980|         27|            5|    0|            0|         0|          1|    0|\n",
      "|  Alabama|      Widespread|  38|2009-10|4757938|135767|          84.6|              82.3|              91.1|             98.5| 39980|         29|            0|    3|            0|         0|          0|    0|\n",
      "|  Alabama|      Widespread|  39|2009-10|4757938|135767|          84.6|              82.3|              91.1|             98.5| 39980|         16|            2|    0|            0|         0|          0|    0|\n",
      "+---------+----------------+----+-------+-------+------+--------------+------------------+------------------+-----------------+------+-----------+-------------+-----+-------------+----------+-----------+-----+\n",
      "only showing top 5 rows\n",
      "\n"
     ]
    }
   ],
   "source": [
    "traintest = Flu.join(Population, (Flu.SEASON == Population.SEASON) & (Flu.STATENAME == Population.STATENAME) ).drop(Population.STATENAME).drop(Population.SEASON)\n",
    "traintest = traintest.join(Area,(traintest.STATENAME == Area.STATENAME) ).drop(Area.STATENAME)\n",
    "traintest = traintest.join(Health, (traintest.STATENAME == Health.STATENAME) ).drop(Health.STATENAME)\n",
    "traintest = traintest.join(Income, (traintest.SEASON == Income.SEASON) & (traintest.STATENAME == Income.STATENAME) ).drop(Income.STATENAME).drop(Income.SEASON)\n",
    "traintest = traintest.join(Virus, (traintest.SEASON == Virus.SEASON) & (traintest.WEEK == Virus.WEEK)).drop(Virus.WEEK).drop(Virus.SEASON)\n",
    "\n",
    "traintest.show(5)\n",
    "#traintest.describe().show()"
   ]
  },
  {
   "cell_type": "code",
   "execution_count": 21,
   "metadata": {},
   "outputs": [
    {
     "name": "stdout",
     "output_type": "stream",
     "text": [
      "root\n",
      " |-- STATENAME: string (nullable = true)\n",
      " |-- ACTIVITYESTIMATE: string (nullable = true)\n",
      " |-- WEEK: integer (nullable = true)\n",
      " |-- SEASON: string (nullable = true)\n",
      " |-- POP: integer (nullable = true)\n",
      " |-- AREA: integer (nullable = true)\n",
      " |-- HealthCare_All: float (nullable = true)\n",
      " |-- HealthCare_Under65: float (nullable = true)\n",
      " |-- HealthCare_Under18: float (nullable = true)\n",
      " |-- HealthCare_Over65: float (nullable = true)\n",
      " |-- INCOME: integer (nullable = true)\n",
      " |-- TypeA_subH3: integer (nullable = true)\n",
      " |-- TypeA_subH1N1: integer (nullable = true)\n",
      " |-- TypeA: integer (nullable = true)\n",
      " |-- TypeA_subH3N2: integer (nullable = true)\n",
      " |-- TypeA_subU: integer (nullable = true)\n",
      " |-- TypeA_subH1: integer (nullable = true)\n",
      " |-- TypeB: integer (nullable = true)\n",
      "\n"
     ]
    }
   ],
   "source": [
    "traintest.printSchema()"
   ]
  },
  {
   "cell_type": "code",
   "execution_count": 22,
   "metadata": {},
   "outputs": [],
   "source": [
    "traintest.toPandas().to_csv('traintest.csv')"
   ]
  },
  {
   "cell_type": "code",
   "execution_count": 2,
   "metadata": {},
   "outputs": [],
   "source": [
    "traintest = spark.read.csv(\"traintest.csv\", header=True, inferSchema=True)"
   ]
  },
  {
   "cell_type": "code",
   "execution_count": 3,
   "metadata": {},
   "outputs": [
    {
     "data": {
      "text/plain": [
       "17124"
      ]
     },
     "execution_count": 3,
     "metadata": {},
     "output_type": "execute_result"
    }
   ],
   "source": [
    "traintest.count()"
   ]
  },
  {
   "cell_type": "markdown",
   "metadata": {},
   "source": [
    "### Features creation"
   ]
  },
  {
   "cell_type": "code",
   "execution_count": 3,
   "metadata": {},
   "outputs": [
    {
     "name": "stdout",
     "output_type": "stream",
     "text": [
      "root\n",
      " |-- _c0: integer (nullable = true)\n",
      " |-- STATENAME: string (nullable = true)\n",
      " |-- ACTIVITYESTIMATE: string (nullable = true)\n",
      " |-- WEEK: integer (nullable = true)\n",
      " |-- SEASON: string (nullable = true)\n",
      " |-- POP: integer (nullable = true)\n",
      " |-- AREA: integer (nullable = true)\n",
      " |-- HealthCare_All: double (nullable = true)\n",
      " |-- HealthCare_Under65: double (nullable = true)\n",
      " |-- HealthCare_Under18: double (nullable = true)\n",
      " |-- HealthCare_Over65: double (nullable = true)\n",
      " |-- INCOME: integer (nullable = true)\n",
      " |-- TypeA_subH3: integer (nullable = true)\n",
      " |-- TypeA_subH1N1: integer (nullable = true)\n",
      " |-- TypeA: integer (nullable = true)\n",
      " |-- TypeA_subH3N2: integer (nullable = true)\n",
      " |-- TypeA_subU: integer (nullable = true)\n",
      " |-- TypeA_subH1: integer (nullable = true)\n",
      " |-- TypeB: integer (nullable = true)\n",
      " |-- PrevWeek: string (nullable = true)\n",
      "\n"
     ]
    }
   ],
   "source": [
    "#prevweek\n",
    "from pyspark.sql.functions import lag, col\n",
    "from pyspark.sql.window import Window\n",
    "\n",
    "traintest = spark.read.csv(\"traintest.csv\", header=True, inferSchema=True)\n",
    "\n",
    "w = Window().partitionBy().orderBy(col(\"_c0\"))\n",
    "traintest = traintest.select(\"*\", lag(\"ACTIVITYESTIMATE\").over(w).alias(\"PrevWeek\"))#.na.drop()\n",
    "# supprimer week 40\n",
    "traintest = traintest.filter(\"WEEK != 40\").select('*')\n",
    "\n",
    "#traintest.show(2)\n",
    "traintest.printSchema()"
   ]
  },
  {
   "cell_type": "code",
   "execution_count": 4,
   "metadata": {},
   "outputs": [
    {
     "name": "stdout",
     "output_type": "stream",
     "text": [
      "root\n",
      " |-- _c0: integer (nullable = true)\n",
      " |-- STATENAME: string (nullable = true)\n",
      " |-- ACTIVITYESTIMATE: string (nullable = true)\n",
      " |-- WEEK: integer (nullable = true)\n",
      " |-- SEASON: string (nullable = true)\n",
      " |-- POP: integer (nullable = true)\n",
      " |-- AREA: integer (nullable = true)\n",
      " |-- HealthCare_All: double (nullable = true)\n",
      " |-- HealthCare_Under65: double (nullable = true)\n",
      " |-- HealthCare_Under18: double (nullable = true)\n",
      " |-- HealthCare_Over65: double (nullable = true)\n",
      " |-- INCOME: integer (nullable = true)\n",
      " |-- TypeA_subH3: integer (nullable = true)\n",
      " |-- TypeA_subH1N1: integer (nullable = true)\n",
      " |-- TypeA: integer (nullable = true)\n",
      " |-- TypeA_subH3N2: integer (nullable = true)\n",
      " |-- TypeA_subU: integer (nullable = true)\n",
      " |-- TypeA_subH1: integer (nullable = true)\n",
      " |-- TypeB: integer (nullable = true)\n",
      " |-- PrevWeek: string (nullable = true)\n",
      " |-- NSporadic: long (nullable = true)\n",
      " |-- NLocalAct: long (nullable = true)\n",
      " |-- NNoAct: long (nullable = true)\n",
      " |-- NRegional: long (nullable = true)\n",
      " |-- NWidespread: long (nullable = true)\n",
      "\n"
     ]
    }
   ],
   "source": [
    "#the number of states that was in each activity class during the previous week. This new feature are named NRegional, NLocalAct, NSporadic, NWidespread.\n",
    "\n",
    "from pyspark.sql.functions import count\n",
    "\n",
    "CSpo = traintest.where(traintest.PrevWeek==\"Sporadic\").groupBy(\"SEASON\",\"WEEK\").count().withColumnRenamed('count', 'NSporadic').withColumnRenamed('SEASON', 'SEASON2').withColumnRenamed('WEEK', 'WEEK2')\n",
    "CLoc = traintest.where(traintest.PrevWeek==\"Local Activity\").groupBy(\"SEASON\",\"WEEK\").count().withColumnRenamed('count', 'NLocalAct').withColumnRenamed('SEASON', 'SEASON2').withColumnRenamed('WEEK', 'WEEK2')\n",
    "CNoAct = traintest.where(traintest.PrevWeek==\"No Activity\").groupBy(\"SEASON\",\"WEEK\").count().withColumnRenamed('count', 'NNoAct').withColumnRenamed('SEASON', 'SEASON2').withColumnRenamed('WEEK', 'WEEK2')\n",
    "CReg = traintest.where(traintest.PrevWeek==\"Regional\").groupBy(\"SEASON\",\"WEEK\").count().withColumnRenamed('count', 'NRegional').withColumnRenamed('SEASON', 'SEASON2').withColumnRenamed('WEEK', 'WEEK2')\n",
    "CWide = traintest.where(traintest.PrevWeek==\"Widespread\").groupBy(\"SEASON\",\"WEEK\").count().withColumnRenamed('count', 'NWidespread').withColumnRenamed('SEASON', 'SEASON2').withColumnRenamed('WEEK', 'WEEK2')\n",
    "\n",
    "traintest = traintest.join(CSpo,(traintest.SEASON == CSpo.SEASON2) &  (traintest.WEEK == CSpo.WEEK2),how = 'left').drop(CSpo.SEASON2).drop(CSpo.WEEK2)\n",
    "traintest = traintest.join(CLoc,(traintest.SEASON == CLoc.SEASON2) &  (traintest.WEEK == CLoc.WEEK2),how = 'left').drop(CLoc.SEASON2).drop(CLoc.WEEK2)\n",
    "traintest = traintest.join(CNoAct,(traintest.SEASON == CNoAct.SEASON2) &  (traintest.WEEK == CNoAct.WEEK2),how = 'left').drop(CNoAct.SEASON2).drop(CNoAct.WEEK2)\n",
    "traintest = traintest.join(CReg,(traintest.SEASON == CReg.SEASON2) &  (traintest.WEEK == CReg.WEEK2),how = 'left').drop(CReg.SEASON2).drop(CReg.WEEK2)\n",
    "traintest = traintest.join(CWide,(traintest.SEASON == CWide.SEASON2) &  (traintest.WEEK == CWide.WEEK2),how = 'left').drop(CWide.SEASON2).drop(CWide.WEEK2)\n",
    "\n",
    "traintest.printSchema()"
   ]
  },
  {
   "cell_type": "code",
   "execution_count": 6,
   "metadata": {},
   "outputs": [
    {
     "data": {
      "text/plain": [
       "16615"
      ]
     },
     "execution_count": 6,
     "metadata": {},
     "output_type": "execute_result"
    }
   ],
   "source": [
    "traintest.count()"
   ]
  },
  {
   "cell_type": "code",
   "execution_count": 6,
   "metadata": {},
   "outputs": [
    {
     "name": "stdout",
     "output_type": "stream",
     "text": [
      "this step take it time\n",
      "16615\n",
      "+------------------------+\n",
      "|0.000000000000000000e+00|\n",
      "+------------------------+\n",
      "|                     0.0|\n",
      "|                     1.0|\n",
      "|                     2.0|\n",
      "|                     3.0|\n",
      "|                     4.0|\n",
      "+------------------------+\n",
      "only showing top 5 rows\n",
      "\n"
     ]
    }
   ],
   "source": [
    "##### during how many week the flu activity haven't change for each state\n",
    "# SinceAct \n",
    "print('this step take it time')\n",
    "def since(table):\n",
    "    l = table.collect()\n",
    "    SinceAct = [0]\n",
    "    for k in range(1,table.count()):\n",
    "        c = 0\n",
    "        i = k-1\n",
    "        while (l[i]['ACTIVITYESTIMATE'] == l[k]['ACTIVITYESTIMATE']):\n",
    "            c += 1\n",
    "            i -= 1\n",
    "            if (i < 0): \n",
    "                break\n",
    "        SinceAct.append(c)\n",
    "    return(SinceAct)\n",
    "\n",
    "#traintest = traintest.withColumn('SinceAct',spark.createDataFrame((since(traintest),),['SinceAct'])['SinceAct'])\n",
    "l = since(traintest)\n",
    "print(len(l))\n",
    "import numpy as np\n",
    "np.savetxt(\"SinceAct.csv\", l, delimiter=\",\")\n",
    "\n",
    "#df = spark.createDataFrame((since(traintest),),['SinceAct']) \n",
    "#df.show(5)\n",
    "#traintest.withColumn('SinceAct',since(traintest)) # Rebuild data frame\n",
    "#traintest.withColumn('SincseAct',since(traintest.collect()['ACTIVITYESTIMATE']))\n",
    "#traintest.show(2)"
   ]
  },
  {
   "cell_type": "code",
   "execution_count": 11,
   "metadata": {},
   "outputs": [
    {
     "name": "stdout",
     "output_type": "stream",
     "text": [
      "+--------+\n",
      "|SinceAct|\n",
      "+--------+\n",
      "|     0.0|\n",
      "|     0.0|\n",
      "|     1.0|\n",
      "|     2.0|\n",
      "|     3.0|\n",
      "+--------+\n",
      "only showing top 5 rows\n",
      "\n"
     ]
    }
   ],
   "source": [
    "SA = spark.read.csv(\"SinceAct.csv\", header=False, inferSchema=True)\n",
    "SA = SA.withColumnRenamed('_c0','SinceAct')\n",
    "SA.show(5)\n"
   ]
  },
  {
   "cell_type": "code",
   "execution_count": 14,
   "metadata": {},
   "outputs": [
    {
     "ename": "AnalysisException",
     "evalue": "'resolved attribute(s) SinceAct#1105 missing from HealthCare_Over65#75,NNoAct#262L,AREA#71,SEASON#69,HealthCare_Under65#73,POP#70,NLocalAct#219L,TypeA#79,STATENAME#66,INCOME#76,ACTIVITYESTIMATE#67,HealthCare_All#72,NWidespread#348L,WEEK#68,TypeB#83,_c0#65,TypeA_subH3#77,NRegional#305L,TypeA_subH1N1#78,TypeA_subH3N2#80,TypeA_subU#81,TypeA_subH1#82,PrevWeek#104,NSporadic#176L,HealthCare_Under18#74 in operator !Project [_c0#65, STATENAME#66, ACTIVITYESTIMATE#67, WEEK#68, SEASON#69, POP#70, AREA#71, HealthCare_All#72, HealthCare_Under65#73, HealthCare_Under18#74, HealthCare_Over65#75, INCOME#76, TypeA_subH3#77, TypeA_subH1N1#78, TypeA#79, TypeA_subH3N2#80, TypeA_subU#81, TypeA_subH1#82, TypeB#83, PrevWeek#104, NSporadic#176L, NLocalAct#219L, NNoAct#262L, NRegional#305L, ... 2 more fields];;\\n!Project [_c0#65, STATENAME#66, ACTIVITYESTIMATE#67, WEEK#68, SEASON#69, POP#70, AREA#71, HealthCare_All#72, HealthCare_Under65#73, HealthCare_Under18#74, HealthCare_Over65#75, INCOME#76, TypeA_subH3#77, TypeA_subH1N1#78, TypeA#79, TypeA_subH3N2#80, TypeA_subU#81, TypeA_subH1#82, TypeB#83, PrevWeek#104, NSporadic#176L, NLocalAct#219L, NNoAct#262L, NRegional#305L, ... 2 more fields]\\n+- Project [_c0#65, STATENAME#66, ACTIVITYESTIMATE#67, WEEK#68, SEASON#69, POP#70, AREA#71, HealthCare_All#72, HealthCare_Under65#73, HealthCare_Under18#74, HealthCare_Over65#75, INCOME#76, TypeA_subH3#77, TypeA_subH1N1#78, TypeA#79, TypeA_subH3N2#80, TypeA_subU#81, TypeA_subH1#82, TypeB#83, PrevWeek#104, NSporadic#176L, NLocalAct#219L, NNoAct#262L, NRegional#305L, NWidespread#348L]\\n   +- Project [_c0#65, STATENAME#66, ACTIVITYESTIMATE#67, WEEK#68, SEASON#69, POP#70, AREA#71, HealthCare_All#72, HealthCare_Under65#73, HealthCare_Under18#74, HealthCare_Over65#75, INCOME#76, TypeA_subH3#77, TypeA_subH1N1#78, TypeA#79, TypeA_subH3N2#80, TypeA_subU#81, TypeA_subH1#82, TypeB#83, PrevWeek#104, NSporadic#176L, NLocalAct#219L, NNoAct#262L, NRegional#305L, ... 2 more fields]\\n      +- Join LeftOuter, ((SEASON#69 = SEASON2#353) && (WEEK#68 = WEEK2#358))\\n         :- Project [_c0#65, STATENAME#66, ACTIVITYESTIMATE#67, WEEK#68, SEASON#69, POP#70, AREA#71, HealthCare_All#72, HealthCare_Under65#73, HealthCare_Under18#74, HealthCare_Over65#75, INCOME#76, TypeA_subH3#77, TypeA_subH1N1#78, TypeA#79, TypeA_subH3N2#80, TypeA_subU#81, TypeA_subH1#82, TypeB#83, PrevWeek#104, NSporadic#176L, NLocalAct#219L, NNoAct#262L, NRegional#305L]\\n         :  +- Project [_c0#65, STATENAME#66, ACTIVITYESTIMATE#67, WEEK#68, SEASON#69, POP#70, AREA#71, HealthCare_All#72, HealthCare_Under65#73, HealthCare_Under18#74, HealthCare_Over65#75, INCOME#76, TypeA_subH3#77, TypeA_subH1N1#78, TypeA#79, TypeA_subH3N2#80, TypeA_subU#81, TypeA_subH1#82, TypeB#83, PrevWeek#104, NSporadic#176L, NLocalAct#219L, NNoAct#262L, WEEK2#315, NRegional#305L]\\n         :     +- Join LeftOuter, ((SEASON#69 = SEASON2#310) && (WEEK#68 = WEEK2#315))\\n         :        :- Project [_c0#65, STATENAME#66, ACTIVITYESTIMATE#67, WEEK#68, SEASON#69, POP#70, AREA#71, HealthCare_All#72, HealthCare_Under65#73, HealthCare_Under18#74, HealthCare_Over65#75, INCOME#76, TypeA_subH3#77, TypeA_subH1N1#78, TypeA#79, TypeA_subH3N2#80, TypeA_subU#81, TypeA_subH1#82, TypeB#83, PrevWeek#104, NSporadic#176L, NLocalAct#219L, NNoAct#262L]\\n         :        :  +- Project [_c0#65, STATENAME#66, ACTIVITYESTIMATE#67, WEEK#68, SEASON#69, POP#70, AREA#71, HealthCare_All#72, HealthCare_Under65#73, HealthCare_Under18#74, HealthCare_Over65#75, INCOME#76, TypeA_subH3#77, TypeA_subH1N1#78, TypeA#79, TypeA_subH3N2#80, TypeA_subU#81, TypeA_subH1#82, TypeB#83, PrevWeek#104, NSporadic#176L, NLocalAct#219L, WEEK2#272, NNoAct#262L]\\n         :        :     +- Join LeftOuter, ((SEASON#69 = SEASON2#267) && (WEEK#68 = WEEK2#272))\\n         :        :        :- Project [_c0#65, STATENAME#66, ACTIVITYESTIMATE#67, WEEK#68, SEASON#69, POP#70, AREA#71, HealthCare_All#72, HealthCare_Under65#73, HealthCare_Under18#74, HealthCare_Over65#75, INCOME#76, TypeA_subH3#77, TypeA_subH1N1#78, TypeA#79, TypeA_subH3N2#80, TypeA_subU#81, TypeA_subH1#82, TypeB#83, PrevWeek#104, NSporadic#176L, NLocalAct#219L]\\n         :        :        :  +- Project [_c0#65, STATENAME#66, ACTIVITYESTIMATE#67, WEEK#68, SEASON#69, POP#70, AREA#71, HealthCare_All#72, HealthCare_Under65#73, HealthCare_Under18#74, HealthCare_Over65#75, INCOME#76, TypeA_subH3#77, TypeA_subH1N1#78, TypeA#79, TypeA_subH3N2#80, TypeA_subU#81, TypeA_subH1#82, TypeB#83, PrevWeek#104, NSporadic#176L, WEEK2#229, NLocalAct#219L]\\n         :        :        :     +- Join LeftOuter, ((SEASON#69 = SEASON2#224) && (WEEK#68 = WEEK2#229))\\n         :        :        :        :- Project [_c0#65, STATENAME#66, ACTIVITYESTIMATE#67, WEEK#68, SEASON#69, POP#70, AREA#71, HealthCare_All#72, HealthCare_Under65#73, HealthCare_Under18#74, HealthCare_Over65#75, INCOME#76, TypeA_subH3#77, TypeA_subH1N1#78, TypeA#79, TypeA_subH3N2#80, TypeA_subU#81, TypeA_subH1#82, TypeB#83, PrevWeek#104, NSporadic#176L]\\n         :        :        :        :  +- Project [_c0#65, STATENAME#66, ACTIVITYESTIMATE#67, WEEK#68, SEASON#69, POP#70, AREA#71, HealthCare_All#72, HealthCare_Under65#73, HealthCare_Under18#74, HealthCare_Over65#75, INCOME#76, TypeA_subH3#77, TypeA_subH1N1#78, TypeA#79, TypeA_subH3N2#80, TypeA_subU#81, TypeA_subH1#82, TypeB#83, PrevWeek#104, WEEK2#186, NSporadic#176L]\\n         :        :        :        :     +- Join LeftOuter, ((SEASON#69 = SEASON2#181) && (WEEK#68 = WEEK2#186))\\n         :        :        :        :        :- Project [_c0#65, STATENAME#66, ACTIVITYESTIMATE#67, WEEK#68, SEASON#69, POP#70, AREA#71, HealthCare_All#72, HealthCare_Under65#73, HealthCare_Under18#74, HealthCare_Over65#75, INCOME#76, TypeA_subH3#77, TypeA_subH1N1#78, TypeA#79, TypeA_subH3N2#80, TypeA_subU#81, TypeA_subH1#82, TypeB#83, PrevWeek#104]\\n         :        :        :        :        :  +- Filter NOT (WEEK#68 = 40)\\n         :        :        :        :        :     +- Project [_c0#65, STATENAME#66, ACTIVITYESTIMATE#67, WEEK#68, SEASON#69, POP#70, AREA#71, HealthCare_All#72, HealthCare_Under65#73, HealthCare_Under18#74, HealthCare_Over65#75, INCOME#76, TypeA_subH3#77, TypeA_subH1N1#78, TypeA#79, TypeA_subH3N2#80, TypeA_subU#81, TypeA_subH1#82, TypeB#83, PrevWeek#104]\\n         :        :        :        :        :        +- Project [_c0#65, STATENAME#66, ACTIVITYESTIMATE#67, WEEK#68, SEASON#69, POP#70, AREA#71, HealthCare_All#72, HealthCare_Under65#73, HealthCare_Under18#74, HealthCare_Over65#75, INCOME#76, TypeA_subH3#77, TypeA_subH1N1#78, TypeA#79, TypeA_subH3N2#80, TypeA_subU#81, TypeA_subH1#82, TypeB#83, PrevWeek#104, PrevWeek#104]\\n         :        :        :        :        :           +- Window [lag(ACTIVITYESTIMATE#67, 1, null) windowspecdefinition(_c0#65 ASC NULLS FIRST, ROWS BETWEEN 1 PRECEDING AND 1 PRECEDING) AS PrevWeek#104], [_c0#65 ASC NULLS FIRST]\\n         :        :        :        :        :              +- Project [_c0#65, STATENAME#66, ACTIVITYESTIMATE#67, WEEK#68, SEASON#69, POP#70, AREA#71, HealthCare_All#72, HealthCare_Under65#73, HealthCare_Under18#74, HealthCare_Over65#75, INCOME#76, TypeA_subH3#77, TypeA_subH1N1#78, TypeA#79, TypeA_subH3N2#80, TypeA_subU#81, TypeA_subH1#82, TypeB#83]\\n         :        :        :        :        :                 +- Relation[_c0#65,STATENAME#66,ACTIVITYESTIMATE#67,WEEK#68,SEASON#69,POP#70,AREA#71,HealthCare_All#72,HealthCare_Under65#73,HealthCare_Under18#74,HealthCare_Over65#75,INCOME#76,TypeA_subH3#77,TypeA_subH1N1#78,TypeA#79,TypeA_subH3N2#80,TypeA_subU#81,TypeA_subH1#82,TypeB#83] csv\\n         :        :        :        :        +- Project [SEASON2#181, WEEK#68 AS WEEK2#186, NSporadic#176L]\\n         :        :        :        :           +- Project [SEASON#69 AS SEASON2#181, WEEK#68, NSporadic#176L]\\n         :        :        :        :              +- Project [SEASON#69, WEEK#68, count#171L AS NSporadic#176L]\\n         :        :        :        :                 +- Aggregate [SEASON#69, WEEK#68], [SEASON#69, WEEK#68, count(1) AS count#171L]\\n         :        :        :        :                    +- Filter (PrevWeek#104 = Sporadic)\\n         :        :        :        :                       +- Project [_c0#65, STATENAME#66, ACTIVITYESTIMATE#67, WEEK#68, SEASON#69, POP#70, AREA#71, HealthCare_All#72, HealthCare_Under65#73, HealthCare_Under18#74, HealthCare_Over65#75, INCOME#76, TypeA_subH3#77, TypeA_subH1N1#78, TypeA#79, TypeA_subH3N2#80, TypeA_subU#81, TypeA_subH1#82, TypeB#83, PrevWeek#104]\\n         :        :        :        :                          +- Filter NOT (WEEK#68 = 40)\\n         :        :        :        :                             +- Project [_c0#65, STATENAME#66, ACTIVITYESTIMATE#67, WEEK#68, SEASON#69, POP#70, AREA#71, HealthCare_All#72, HealthCare_Under65#73, HealthCare_Under18#74, HealthCare_Over65#75, INCOME#76, TypeA_subH3#77, TypeA_subH1N1#78, TypeA#79, TypeA_subH3N2#80, TypeA_subU#81, TypeA_subH1#82, TypeB#83, PrevWeek#104]\\n         :        :        :        :                                +- Project [_c0#65, STATENAME#66, ACTIVITYESTIMATE#67, WEEK#68, SEASON#69, POP#70, AREA#71, HealthCare_All#72, HealthCare_Under65#73, HealthCare_Under18#74, HealthCare_Over65#75, INCOME#76, TypeA_subH3#77, TypeA_subH1N1#78, TypeA#79, TypeA_subH3N2#80, TypeA_subU#81, TypeA_subH1#82, TypeB#83, PrevWeek#104, PrevWeek#104]\\n         :        :        :        :                                   +- Window [lag(ACTIVITYESTIMATE#67, 1, null) windowspecdefinition(_c0#65 ASC NULLS FIRST, ROWS BETWEEN 1 PRECEDING AND 1 PRECEDING) AS PrevWeek#104], [_c0#65 ASC NULLS FIRST]\\n         :        :        :        :                                      +- Project [_c0#65, STATENAME#66, ACTIVITYESTIMATE#67, WEEK#68, SEASON#69, POP#70, AREA#71, HealthCare_All#72, HealthCare_Under65#73, HealthCare_Under18#74, HealthCare_Over65#75, INCOME#76, TypeA_subH3#77, TypeA_subH1N1#78, TypeA#79, TypeA_subH3N2#80, TypeA_subU#81, TypeA_subH1#82, TypeB#83]\\n         :        :        :        :                                         +- Relation[_c0#65,STATENAME#66,ACTIVITYESTIMATE#67,WEEK#68,SEASON#69,POP#70,AREA#71,HealthCare_All#72,HealthCare_Under65#73,HealthCare_Under18#74,HealthCare_Over65#75,INCOME#76,TypeA_subH3#77,TypeA_subH1N1#78,TypeA#79,TypeA_subH3N2#80,TypeA_subU#81,TypeA_subH1#82,TypeB#83] csv\\n         :        :        :        +- Project [SEASON2#224, WEEK#68 AS WEEK2#229, NLocalAct#219L]\\n         :        :        :           +- Project [SEASON#69 AS SEASON2#224, WEEK#68, NLocalAct#219L]\\n         :        :        :              +- Project [SEASON#69, WEEK#68, count#214L AS NLocalAct#219L]\\n         :        :        :                 +- Aggregate [SEASON#69, WEEK#68], [SEASON#69, WEEK#68, count(1) AS count#214L]\\n         :        :        :                    +- Filter (PrevWeek#104 = Local Activity)\\n         :        :        :                       +- Project [_c0#65, STATENAME#66, ACTIVITYESTIMATE#67, WEEK#68, SEASON#69, POP#70, AREA#71, HealthCare_All#72, HealthCare_Under65#73, HealthCare_Under18#74, HealthCare_Over65#75, INCOME#76, TypeA_subH3#77, TypeA_subH1N1#78, TypeA#79, TypeA_subH3N2#80, TypeA_subU#81, TypeA_subH1#82, TypeB#83, PrevWeek#104]\\n         :        :        :                          +- Filter NOT (WEEK#68 = 40)\\n         :        :        :                             +- Project [_c0#65, STATENAME#66, ACTIVITYESTIMATE#67, WEEK#68, SEASON#69, POP#70, AREA#71, HealthCare_All#72, HealthCare_Under65#73, HealthCare_Under18#74, HealthCare_Over65#75, INCOME#76, TypeA_subH3#77, TypeA_subH1N1#78, TypeA#79, TypeA_subH3N2#80, TypeA_subU#81, TypeA_subH1#82, TypeB#83, PrevWeek#104]\\n         :        :        :                                +- Project [_c0#65, STATENAME#66, ACTIVITYESTIMATE#67, WEEK#68, SEASON#69, POP#70, AREA#71, HealthCare_All#72, HealthCare_Under65#73, HealthCare_Under18#74, HealthCare_Over65#75, INCOME#76, TypeA_subH3#77, TypeA_subH1N1#78, TypeA#79, TypeA_subH3N2#80, TypeA_subU#81, TypeA_subH1#82, TypeB#83, PrevWeek#104, PrevWeek#104]\\n         :        :        :                                   +- Window [lag(ACTIVITYESTIMATE#67, 1, null) windowspecdefinition(_c0#65 ASC NULLS FIRST, ROWS BETWEEN 1 PRECEDING AND 1 PRECEDING) AS PrevWeek#104], [_c0#65 ASC NULLS FIRST]\\n         :        :        :                                      +- Project [_c0#65, STATENAME#66, ACTIVITYESTIMATE#67, WEEK#68, SEASON#69, POP#70, AREA#71, HealthCare_All#72, HealthCare_Under65#73, HealthCare_Under18#74, HealthCare_Over65#75, INCOME#76, TypeA_subH3#77, TypeA_subH1N1#78, TypeA#79, TypeA_subH3N2#80, TypeA_subU#81, TypeA_subH1#82, TypeB#83]\\n         :        :        :                                         +- Relation[_c0#65,STATENAME#66,ACTIVITYESTIMATE#67,WEEK#68,SEASON#69,POP#70,AREA#71,HealthCare_All#72,HealthCare_Under65#73,HealthCare_Under18#74,HealthCare_Over65#75,INCOME#76,TypeA_subH3#77,TypeA_subH1N1#78,TypeA#79,TypeA_subH3N2#80,TypeA_subU#81,TypeA_subH1#82,TypeB#83] csv\\n         :        :        +- Project [SEASON2#267, WEEK#68 AS WEEK2#272, NNoAct#262L]\\n         :        :           +- Project [SEASON#69 AS SEASON2#267, WEEK#68, NNoAct#262L]\\n         :        :              +- Project [SEASON#69, WEEK#68, count#257L AS NNoAct#262L]\\n         :        :                 +- Aggregate [SEASON#69, WEEK#68], [SEASON#69, WEEK#68, count(1) AS count#257L]\\n         :        :                    +- Filter (PrevWeek#104 = No Activity)\\n         :        :                       +- Project [_c0#65, STATENAME#66, ACTIVITYESTIMATE#67, WEEK#68, SEASON#69, POP#70, AREA#71, HealthCare_All#72, HealthCare_Under65#73, HealthCare_Under18#74, HealthCare_Over65#75, INCOME#76, TypeA_subH3#77, TypeA_subH1N1#78, TypeA#79, TypeA_subH3N2#80, TypeA_subU#81, TypeA_subH1#82, TypeB#83, PrevWeek#104]\\n         :        :                          +- Filter NOT (WEEK#68 = 40)\\n         :        :                             +- Project [_c0#65, STATENAME#66, ACTIVITYESTIMATE#67, WEEK#68, SEASON#69, POP#70, AREA#71, HealthCare_All#72, HealthCare_Under65#73, HealthCare_Under18#74, HealthCare_Over65#75, INCOME#76, TypeA_subH3#77, TypeA_subH1N1#78, TypeA#79, TypeA_subH3N2#80, TypeA_subU#81, TypeA_subH1#82, TypeB#83, PrevWeek#104]\\n         :        :                                +- Project [_c0#65, STATENAME#66, ACTIVITYESTIMATE#67, WEEK#68, SEASON#69, POP#70, AREA#71, HealthCare_All#72, HealthCare_Under65#73, HealthCare_Under18#74, HealthCare_Over65#75, INCOME#76, TypeA_subH3#77, TypeA_subH1N1#78, TypeA#79, TypeA_subH3N2#80, TypeA_subU#81, TypeA_subH1#82, TypeB#83, PrevWeek#104, PrevWeek#104]\\n         :        :                                   +- Window [lag(ACTIVITYESTIMATE#67, 1, null) windowspecdefinition(_c0#65 ASC NULLS FIRST, ROWS BETWEEN 1 PRECEDING AND 1 PRECEDING) AS PrevWeek#104], [_c0#65 ASC NULLS FIRST]\\n         :        :                                      +- Project [_c0#65, STATENAME#66, ACTIVITYESTIMATE#67, WEEK#68, SEASON#69, POP#70, AREA#71, HealthCare_All#72, HealthCare_Under65#73, HealthCare_Under18#74, HealthCare_Over65#75, INCOME#76, TypeA_subH3#77, TypeA_subH1N1#78, TypeA#79, TypeA_subH3N2#80, TypeA_subU#81, TypeA_subH1#82, TypeB#83]\\n         :        :                                         +- Relation[_c0#65,STATENAME#66,ACTIVITYESTIMATE#67,WEEK#68,SEASON#69,POP#70,AREA#71,HealthCare_All#72,HealthCare_Under65#73,HealthCare_Under18#74,HealthCare_Over65#75,INCOME#76,TypeA_subH3#77,TypeA_subH1N1#78,TypeA#79,TypeA_subH3N2#80,TypeA_subU#81,TypeA_subH1#82,TypeB#83] csv\\n         :        +- Project [SEASON2#310, WEEK#68 AS WEEK2#315, NRegional#305L]\\n         :           +- Project [SEASON#69 AS SEASON2#310, WEEK#68, NRegional#305L]\\n         :              +- Project [SEASON#69, WEEK#68, count#300L AS NRegional#305L]\\n         :                 +- Aggregate [SEASON#69, WEEK#68], [SEASON#69, WEEK#68, count(1) AS count#300L]\\n         :                    +- Filter (PrevWeek#104 = Regional)\\n         :                       +- Project [_c0#65, STATENAME#66, ACTIVITYESTIMATE#67, WEEK#68, SEASON#69, POP#70, AREA#71, HealthCare_All#72, HealthCare_Under65#73, HealthCare_Under18#74, HealthCare_Over65#75, INCOME#76, TypeA_subH3#77, TypeA_subH1N1#78, TypeA#79, TypeA_subH3N2#80, TypeA_subU#81, TypeA_subH1#82, TypeB#83, PrevWeek#104]\\n         :                          +- Filter NOT (WEEK#68 = 40)\\n         :                             +- Project [_c0#65, STATENAME#66, ACTIVITYESTIMATE#67, WEEK#68, SEASON#69, POP#70, AREA#71, HealthCare_All#72, HealthCare_Under65#73, HealthCare_Under18#74, HealthCare_Over65#75, INCOME#76, TypeA_subH3#77, TypeA_subH1N1#78, TypeA#79, TypeA_subH3N2#80, TypeA_subU#81, TypeA_subH1#82, TypeB#83, PrevWeek#104]\\n         :                                +- Project [_c0#65, STATENAME#66, ACTIVITYESTIMATE#67, WEEK#68, SEASON#69, POP#70, AREA#71, HealthCare_All#72, HealthCare_Under65#73, HealthCare_Under18#74, HealthCare_Over65#75, INCOME#76, TypeA_subH3#77, TypeA_subH1N1#78, TypeA#79, TypeA_subH3N2#80, TypeA_subU#81, TypeA_subH1#82, TypeB#83, PrevWeek#104, PrevWeek#104]\\n         :                                   +- Window [lag(ACTIVITYESTIMATE#67, 1, null) windowspecdefinition(_c0#65 ASC NULLS FIRST, ROWS BETWEEN 1 PRECEDING AND 1 PRECEDING) AS PrevWeek#104], [_c0#65 ASC NULLS FIRST]\\n         :                                      +- Project [_c0#65, STATENAME#66, ACTIVITYESTIMATE#67, WEEK#68, SEASON#69, POP#70, AREA#71, HealthCare_All#72, HealthCare_Under65#73, HealthCare_Under18#74, HealthCare_Over65#75, INCOME#76, TypeA_subH3#77, TypeA_subH1N1#78, TypeA#79, TypeA_subH3N2#80, TypeA_subU#81, TypeA_subH1#82, TypeB#83]\\n         :                                         +- Relation[_c0#65,STATENAME#66,ACTIVITYESTIMATE#67,WEEK#68,SEASON#69,POP#70,AREA#71,HealthCare_All#72,HealthCare_Under65#73,HealthCare_Under18#74,HealthCare_Over65#75,INCOME#76,TypeA_subH3#77,TypeA_subH1N1#78,TypeA#79,TypeA_subH3N2#80,TypeA_subU#81,TypeA_subH1#82,TypeB#83] csv\\n         +- Project [SEASON2#353, WEEK#68 AS WEEK2#358, NWidespread#348L]\\n            +- Project [SEASON#69 AS SEASON2#353, WEEK#68, NWidespread#348L]\\n               +- Project [SEASON#69, WEEK#68, count#343L AS NWidespread#348L]\\n                  +- Aggregate [SEASON#69, WEEK#68], [SEASON#69, WEEK#68, count(1) AS count#343L]\\n                     +- Filter (PrevWeek#104 = Widespread)\\n                        +- Project [_c0#65, STATENAME#66, ACTIVITYESTIMATE#67, WEEK#68, SEASON#69, POP#70, AREA#71, HealthCare_All#72, HealthCare_Under65#73, HealthCare_Under18#74, HealthCare_Over65#75, INCOME#76, TypeA_subH3#77, TypeA_subH1N1#78, TypeA#79, TypeA_subH3N2#80, TypeA_subU#81, TypeA_subH1#82, TypeB#83, PrevWeek#104]\\n                           +- Filter NOT (WEEK#68 = 40)\\n                              +- Project [_c0#65, STATENAME#66, ACTIVITYESTIMATE#67, WEEK#68, SEASON#69, POP#70, AREA#71, HealthCare_All#72, HealthCare_Under65#73, HealthCare_Under18#74, HealthCare_Over65#75, INCOME#76, TypeA_subH3#77, TypeA_subH1N1#78, TypeA#79, TypeA_subH3N2#80, TypeA_subU#81, TypeA_subH1#82, TypeB#83, PrevWeek#104]\\n                                 +- Project [_c0#65, STATENAME#66, ACTIVITYESTIMATE#67, WEEK#68, SEASON#69, POP#70, AREA#71, HealthCare_All#72, HealthCare_Under65#73, HealthCare_Under18#74, HealthCare_Over65#75, INCOME#76, TypeA_subH3#77, TypeA_subH1N1#78, TypeA#79, TypeA_subH3N2#80, TypeA_subU#81, TypeA_subH1#82, TypeB#83, PrevWeek#104, PrevWeek#104]\\n                                    +- Window [lag(ACTIVITYESTIMATE#67, 1, null) windowspecdefinition(_c0#65 ASC NULLS FIRST, ROWS BETWEEN 1 PRECEDING AND 1 PRECEDING) AS PrevWeek#104], [_c0#65 ASC NULLS FIRST]\\n                                       +- Project [_c0#65, STATENAME#66, ACTIVITYESTIMATE#67, WEEK#68, SEASON#69, POP#70, AREA#71, HealthCare_All#72, HealthCare_Under65#73, HealthCare_Under18#74, HealthCare_Over65#75, INCOME#76, TypeA_subH3#77, TypeA_subH1N1#78, TypeA#79, TypeA_subH3N2#80, TypeA_subU#81, TypeA_subH1#82, TypeB#83]\\n                                          +- Relation[_c0#65,STATENAME#66,ACTIVITYESTIMATE#67,WEEK#68,SEASON#69,POP#70,AREA#71,HealthCare_All#72,HealthCare_Under65#73,HealthCare_Under18#74,HealthCare_Over65#75,INCOME#76,TypeA_subH3#77,TypeA_subH1N1#78,TypeA#79,TypeA_subH3N2#80,TypeA_subU#81,TypeA_subH1#82,TypeB#83] csv\\n'",
     "output_type": "error",
     "traceback": [
      "\u001b[0;31m---------------------------------------------------------------------------\u001b[0m",
      "\u001b[0;31mPy4JJavaError\u001b[0m                             Traceback (most recent call last)",
      "\u001b[0;32m~/spark-2.1.1-bin-hadoop2.7/python/pyspark/sql/utils.py\u001b[0m in \u001b[0;36mdeco\u001b[0;34m(*a, **kw)\u001b[0m\n\u001b[1;32m     62\u001b[0m         \u001b[0;32mtry\u001b[0m\u001b[0;34m:\u001b[0m\u001b[0;34m\u001b[0m\u001b[0m\n\u001b[0;32m---> 63\u001b[0;31m             \u001b[0;32mreturn\u001b[0m \u001b[0mf\u001b[0m\u001b[0;34m(\u001b[0m\u001b[0;34m*\u001b[0m\u001b[0ma\u001b[0m\u001b[0;34m,\u001b[0m \u001b[0;34m**\u001b[0m\u001b[0mkw\u001b[0m\u001b[0;34m)\u001b[0m\u001b[0;34m\u001b[0m\u001b[0m\n\u001b[0m\u001b[1;32m     64\u001b[0m         \u001b[0;32mexcept\u001b[0m \u001b[0mpy4j\u001b[0m\u001b[0;34m.\u001b[0m\u001b[0mprotocol\u001b[0m\u001b[0;34m.\u001b[0m\u001b[0mPy4JJavaError\u001b[0m \u001b[0;32mas\u001b[0m \u001b[0me\u001b[0m\u001b[0;34m:\u001b[0m\u001b[0;34m\u001b[0m\u001b[0m\n",
      "\u001b[0;32m~/spark-2.1.1-bin-hadoop2.7/python/lib/py4j-0.10.4-src.zip/py4j/protocol.py\u001b[0m in \u001b[0;36mget_return_value\u001b[0;34m(answer, gateway_client, target_id, name)\u001b[0m\n\u001b[1;32m    318\u001b[0m                     \u001b[0;34m\"An error occurred while calling {0}{1}{2}.\\n\"\u001b[0m\u001b[0;34m.\u001b[0m\u001b[0;34m\u001b[0m\u001b[0m\n\u001b[0;32m--> 319\u001b[0;31m                     format(target_id, \".\", name), value)\n\u001b[0m\u001b[1;32m    320\u001b[0m             \u001b[0;32melse\u001b[0m\u001b[0;34m:\u001b[0m\u001b[0;34m\u001b[0m\u001b[0m\n",
      "\u001b[0;31mPy4JJavaError\u001b[0m: An error occurred while calling o187.withColumn.\n: org.apache.spark.sql.AnalysisException: resolved attribute(s) SinceAct#1105 missing from HealthCare_Over65#75,NNoAct#262L,AREA#71,SEASON#69,HealthCare_Under65#73,POP#70,NLocalAct#219L,TypeA#79,STATENAME#66,INCOME#76,ACTIVITYESTIMATE#67,HealthCare_All#72,NWidespread#348L,WEEK#68,TypeB#83,_c0#65,TypeA_subH3#77,NRegional#305L,TypeA_subH1N1#78,TypeA_subH3N2#80,TypeA_subU#81,TypeA_subH1#82,PrevWeek#104,NSporadic#176L,HealthCare_Under18#74 in operator !Project [_c0#65, STATENAME#66, ACTIVITYESTIMATE#67, WEEK#68, SEASON#69, POP#70, AREA#71, HealthCare_All#72, HealthCare_Under65#73, HealthCare_Under18#74, HealthCare_Over65#75, INCOME#76, TypeA_subH3#77, TypeA_subH1N1#78, TypeA#79, TypeA_subH3N2#80, TypeA_subU#81, TypeA_subH1#82, TypeB#83, PrevWeek#104, NSporadic#176L, NLocalAct#219L, NNoAct#262L, NRegional#305L, ... 2 more fields];;\n!Project [_c0#65, STATENAME#66, ACTIVITYESTIMATE#67, WEEK#68, SEASON#69, POP#70, AREA#71, HealthCare_All#72, HealthCare_Under65#73, HealthCare_Under18#74, HealthCare_Over65#75, INCOME#76, TypeA_subH3#77, TypeA_subH1N1#78, TypeA#79, TypeA_subH3N2#80, TypeA_subU#81, TypeA_subH1#82, TypeB#83, PrevWeek#104, NSporadic#176L, NLocalAct#219L, NNoAct#262L, NRegional#305L, ... 2 more fields]\n+- Project [_c0#65, STATENAME#66, ACTIVITYESTIMATE#67, WEEK#68, SEASON#69, POP#70, AREA#71, HealthCare_All#72, HealthCare_Under65#73, HealthCare_Under18#74, HealthCare_Over65#75, INCOME#76, TypeA_subH3#77, TypeA_subH1N1#78, TypeA#79, TypeA_subH3N2#80, TypeA_subU#81, TypeA_subH1#82, TypeB#83, PrevWeek#104, NSporadic#176L, NLocalAct#219L, NNoAct#262L, NRegional#305L, NWidespread#348L]\n   +- Project [_c0#65, STATENAME#66, ACTIVITYESTIMATE#67, WEEK#68, SEASON#69, POP#70, AREA#71, HealthCare_All#72, HealthCare_Under65#73, HealthCare_Under18#74, HealthCare_Over65#75, INCOME#76, TypeA_subH3#77, TypeA_subH1N1#78, TypeA#79, TypeA_subH3N2#80, TypeA_subU#81, TypeA_subH1#82, TypeB#83, PrevWeek#104, NSporadic#176L, NLocalAct#219L, NNoAct#262L, NRegional#305L, ... 2 more fields]\n      +- Join LeftOuter, ((SEASON#69 = SEASON2#353) && (WEEK#68 = WEEK2#358))\n         :- Project [_c0#65, STATENAME#66, ACTIVITYESTIMATE#67, WEEK#68, SEASON#69, POP#70, AREA#71, HealthCare_All#72, HealthCare_Under65#73, HealthCare_Under18#74, HealthCare_Over65#75, INCOME#76, TypeA_subH3#77, TypeA_subH1N1#78, TypeA#79, TypeA_subH3N2#80, TypeA_subU#81, TypeA_subH1#82, TypeB#83, PrevWeek#104, NSporadic#176L, NLocalAct#219L, NNoAct#262L, NRegional#305L]\n         :  +- Project [_c0#65, STATENAME#66, ACTIVITYESTIMATE#67, WEEK#68, SEASON#69, POP#70, AREA#71, HealthCare_All#72, HealthCare_Under65#73, HealthCare_Under18#74, HealthCare_Over65#75, INCOME#76, TypeA_subH3#77, TypeA_subH1N1#78, TypeA#79, TypeA_subH3N2#80, TypeA_subU#81, TypeA_subH1#82, TypeB#83, PrevWeek#104, NSporadic#176L, NLocalAct#219L, NNoAct#262L, WEEK2#315, NRegional#305L]\n         :     +- Join LeftOuter, ((SEASON#69 = SEASON2#310) && (WEEK#68 = WEEK2#315))\n         :        :- Project [_c0#65, STATENAME#66, ACTIVITYESTIMATE#67, WEEK#68, SEASON#69, POP#70, AREA#71, HealthCare_All#72, HealthCare_Under65#73, HealthCare_Under18#74, HealthCare_Over65#75, INCOME#76, TypeA_subH3#77, TypeA_subH1N1#78, TypeA#79, TypeA_subH3N2#80, TypeA_subU#81, TypeA_subH1#82, TypeB#83, PrevWeek#104, NSporadic#176L, NLocalAct#219L, NNoAct#262L]\n         :        :  +- Project [_c0#65, STATENAME#66, ACTIVITYESTIMATE#67, WEEK#68, SEASON#69, POP#70, AREA#71, HealthCare_All#72, HealthCare_Under65#73, HealthCare_Under18#74, HealthCare_Over65#75, INCOME#76, TypeA_subH3#77, TypeA_subH1N1#78, TypeA#79, TypeA_subH3N2#80, TypeA_subU#81, TypeA_subH1#82, TypeB#83, PrevWeek#104, NSporadic#176L, NLocalAct#219L, WEEK2#272, NNoAct#262L]\n         :        :     +- Join LeftOuter, ((SEASON#69 = SEASON2#267) && (WEEK#68 = WEEK2#272))\n         :        :        :- Project [_c0#65, STATENAME#66, ACTIVITYESTIMATE#67, WEEK#68, SEASON#69, POP#70, AREA#71, HealthCare_All#72, HealthCare_Under65#73, HealthCare_Under18#74, HealthCare_Over65#75, INCOME#76, TypeA_subH3#77, TypeA_subH1N1#78, TypeA#79, TypeA_subH3N2#80, TypeA_subU#81, TypeA_subH1#82, TypeB#83, PrevWeek#104, NSporadic#176L, NLocalAct#219L]\n         :        :        :  +- Project [_c0#65, STATENAME#66, ACTIVITYESTIMATE#67, WEEK#68, SEASON#69, POP#70, AREA#71, HealthCare_All#72, HealthCare_Under65#73, HealthCare_Under18#74, HealthCare_Over65#75, INCOME#76, TypeA_subH3#77, TypeA_subH1N1#78, TypeA#79, TypeA_subH3N2#80, TypeA_subU#81, TypeA_subH1#82, TypeB#83, PrevWeek#104, NSporadic#176L, WEEK2#229, NLocalAct#219L]\n         :        :        :     +- Join LeftOuter, ((SEASON#69 = SEASON2#224) && (WEEK#68 = WEEK2#229))\n         :        :        :        :- Project [_c0#65, STATENAME#66, ACTIVITYESTIMATE#67, WEEK#68, SEASON#69, POP#70, AREA#71, HealthCare_All#72, HealthCare_Under65#73, HealthCare_Under18#74, HealthCare_Over65#75, INCOME#76, TypeA_subH3#77, TypeA_subH1N1#78, TypeA#79, TypeA_subH3N2#80, TypeA_subU#81, TypeA_subH1#82, TypeB#83, PrevWeek#104, NSporadic#176L]\n         :        :        :        :  +- Project [_c0#65, STATENAME#66, ACTIVITYESTIMATE#67, WEEK#68, SEASON#69, POP#70, AREA#71, HealthCare_All#72, HealthCare_Under65#73, HealthCare_Under18#74, HealthCare_Over65#75, INCOME#76, TypeA_subH3#77, TypeA_subH1N1#78, TypeA#79, TypeA_subH3N2#80, TypeA_subU#81, TypeA_subH1#82, TypeB#83, PrevWeek#104, WEEK2#186, NSporadic#176L]\n         :        :        :        :     +- Join LeftOuter, ((SEASON#69 = SEASON2#181) && (WEEK#68 = WEEK2#186))\n         :        :        :        :        :- Project [_c0#65, STATENAME#66, ACTIVITYESTIMATE#67, WEEK#68, SEASON#69, POP#70, AREA#71, HealthCare_All#72, HealthCare_Under65#73, HealthCare_Under18#74, HealthCare_Over65#75, INCOME#76, TypeA_subH3#77, TypeA_subH1N1#78, TypeA#79, TypeA_subH3N2#80, TypeA_subU#81, TypeA_subH1#82, TypeB#83, PrevWeek#104]\n         :        :        :        :        :  +- Filter NOT (WEEK#68 = 40)\n         :        :        :        :        :     +- Project [_c0#65, STATENAME#66, ACTIVITYESTIMATE#67, WEEK#68, SEASON#69, POP#70, AREA#71, HealthCare_All#72, HealthCare_Under65#73, HealthCare_Under18#74, HealthCare_Over65#75, INCOME#76, TypeA_subH3#77, TypeA_subH1N1#78, TypeA#79, TypeA_subH3N2#80, TypeA_subU#81, TypeA_subH1#82, TypeB#83, PrevWeek#104]\n         :        :        :        :        :        +- Project [_c0#65, STATENAME#66, ACTIVITYESTIMATE#67, WEEK#68, SEASON#69, POP#70, AREA#71, HealthCare_All#72, HealthCare_Under65#73, HealthCare_Under18#74, HealthCare_Over65#75, INCOME#76, TypeA_subH3#77, TypeA_subH1N1#78, TypeA#79, TypeA_subH3N2#80, TypeA_subU#81, TypeA_subH1#82, TypeB#83, PrevWeek#104, PrevWeek#104]\n         :        :        :        :        :           +- Window [lag(ACTIVITYESTIMATE#67, 1, null) windowspecdefinition(_c0#65 ASC NULLS FIRST, ROWS BETWEEN 1 PRECEDING AND 1 PRECEDING) AS PrevWeek#104], [_c0#65 ASC NULLS FIRST]\n         :        :        :        :        :              +- Project [_c0#65, STATENAME#66, ACTIVITYESTIMATE#67, WEEK#68, SEASON#69, POP#70, AREA#71, HealthCare_All#72, HealthCare_Under65#73, HealthCare_Under18#74, HealthCare_Over65#75, INCOME#76, TypeA_subH3#77, TypeA_subH1N1#78, TypeA#79, TypeA_subH3N2#80, TypeA_subU#81, TypeA_subH1#82, TypeB#83]\n         :        :        :        :        :                 +- Relation[_c0#65,STATENAME#66,ACTIVITYESTIMATE#67,WEEK#68,SEASON#69,POP#70,AREA#71,HealthCare_All#72,HealthCare_Under65#73,HealthCare_Under18#74,HealthCare_Over65#75,INCOME#76,TypeA_subH3#77,TypeA_subH1N1#78,TypeA#79,TypeA_subH3N2#80,TypeA_subU#81,TypeA_subH1#82,TypeB#83] csv\n         :        :        :        :        +- Project [SEASON2#181, WEEK#68 AS WEEK2#186, NSporadic#176L]\n         :        :        :        :           +- Project [SEASON#69 AS SEASON2#181, WEEK#68, NSporadic#176L]\n         :        :        :        :              +- Project [SEASON#69, WEEK#68, count#171L AS NSporadic#176L]\n         :        :        :        :                 +- Aggregate [SEASON#69, WEEK#68], [SEASON#69, WEEK#68, count(1) AS count#171L]\n         :        :        :        :                    +- Filter (PrevWeek#104 = Sporadic)\n         :        :        :        :                       +- Project [_c0#65, STATENAME#66, ACTIVITYESTIMATE#67, WEEK#68, SEASON#69, POP#70, AREA#71, HealthCare_All#72, HealthCare_Under65#73, HealthCare_Under18#74, HealthCare_Over65#75, INCOME#76, TypeA_subH3#77, TypeA_subH1N1#78, TypeA#79, TypeA_subH3N2#80, TypeA_subU#81, TypeA_subH1#82, TypeB#83, PrevWeek#104]\n         :        :        :        :                          +- Filter NOT (WEEK#68 = 40)\n         :        :        :        :                             +- Project [_c0#65, STATENAME#66, ACTIVITYESTIMATE#67, WEEK#68, SEASON#69, POP#70, AREA#71, HealthCare_All#72, HealthCare_Under65#73, HealthCare_Under18#74, HealthCare_Over65#75, INCOME#76, TypeA_subH3#77, TypeA_subH1N1#78, TypeA#79, TypeA_subH3N2#80, TypeA_subU#81, TypeA_subH1#82, TypeB#83, PrevWeek#104]\n         :        :        :        :                                +- Project [_c0#65, STATENAME#66, ACTIVITYESTIMATE#67, WEEK#68, SEASON#69, POP#70, AREA#71, HealthCare_All#72, HealthCare_Under65#73, HealthCare_Under18#74, HealthCare_Over65#75, INCOME#76, TypeA_subH3#77, TypeA_subH1N1#78, TypeA#79, TypeA_subH3N2#80, TypeA_subU#81, TypeA_subH1#82, TypeB#83, PrevWeek#104, PrevWeek#104]\n         :        :        :        :                                   +- Window [lag(ACTIVITYESTIMATE#67, 1, null) windowspecdefinition(_c0#65 ASC NULLS FIRST, ROWS BETWEEN 1 PRECEDING AND 1 PRECEDING) AS PrevWeek#104], [_c0#65 ASC NULLS FIRST]\n         :        :        :        :                                      +- Project [_c0#65, STATENAME#66, ACTIVITYESTIMATE#67, WEEK#68, SEASON#69, POP#70, AREA#71, HealthCare_All#72, HealthCare_Under65#73, HealthCare_Under18#74, HealthCare_Over65#75, INCOME#76, TypeA_subH3#77, TypeA_subH1N1#78, TypeA#79, TypeA_subH3N2#80, TypeA_subU#81, TypeA_subH1#82, TypeB#83]\n         :        :        :        :                                         +- Relation[_c0#65,STATENAME#66,ACTIVITYESTIMATE#67,WEEK#68,SEASON#69,POP#70,AREA#71,HealthCare_All#72,HealthCare_Under65#73,HealthCare_Under18#74,HealthCare_Over65#75,INCOME#76,TypeA_subH3#77,TypeA_subH1N1#78,TypeA#79,TypeA_subH3N2#80,TypeA_subU#81,TypeA_subH1#82,TypeB#83] csv\n         :        :        :        +- Project [SEASON2#224, WEEK#68 AS WEEK2#229, NLocalAct#219L]\n         :        :        :           +- Project [SEASON#69 AS SEASON2#224, WEEK#68, NLocalAct#219L]\n         :        :        :              +- Project [SEASON#69, WEEK#68, count#214L AS NLocalAct#219L]\n         :        :        :                 +- Aggregate [SEASON#69, WEEK#68], [SEASON#69, WEEK#68, count(1) AS count#214L]\n         :        :        :                    +- Filter (PrevWeek#104 = Local Activity)\n         :        :        :                       +- Project [_c0#65, STATENAME#66, ACTIVITYESTIMATE#67, WEEK#68, SEASON#69, POP#70, AREA#71, HealthCare_All#72, HealthCare_Under65#73, HealthCare_Under18#74, HealthCare_Over65#75, INCOME#76, TypeA_subH3#77, TypeA_subH1N1#78, TypeA#79, TypeA_subH3N2#80, TypeA_subU#81, TypeA_subH1#82, TypeB#83, PrevWeek#104]\n         :        :        :                          +- Filter NOT (WEEK#68 = 40)\n         :        :        :                             +- Project [_c0#65, STATENAME#66, ACTIVITYESTIMATE#67, WEEK#68, SEASON#69, POP#70, AREA#71, HealthCare_All#72, HealthCare_Under65#73, HealthCare_Under18#74, HealthCare_Over65#75, INCOME#76, TypeA_subH3#77, TypeA_subH1N1#78, TypeA#79, TypeA_subH3N2#80, TypeA_subU#81, TypeA_subH1#82, TypeB#83, PrevWeek#104]\n         :        :        :                                +- Project [_c0#65, STATENAME#66, ACTIVITYESTIMATE#67, WEEK#68, SEASON#69, POP#70, AREA#71, HealthCare_All#72, HealthCare_Under65#73, HealthCare_Under18#74, HealthCare_Over65#75, INCOME#76, TypeA_subH3#77, TypeA_subH1N1#78, TypeA#79, TypeA_subH3N2#80, TypeA_subU#81, TypeA_subH1#82, TypeB#83, PrevWeek#104, PrevWeek#104]\n         :        :        :                                   +- Window [lag(ACTIVITYESTIMATE#67, 1, null) windowspecdefinition(_c0#65 ASC NULLS FIRST, ROWS BETWEEN 1 PRECEDING AND 1 PRECEDING) AS PrevWeek#104], [_c0#65 ASC NULLS FIRST]\n         :        :        :                                      +- Project [_c0#65, STATENAME#66, ACTIVITYESTIMATE#67, WEEK#68, SEASON#69, POP#70, AREA#71, HealthCare_All#72, HealthCare_Under65#73, HealthCare_Under18#74, HealthCare_Over65#75, INCOME#76, TypeA_subH3#77, TypeA_subH1N1#78, TypeA#79, TypeA_subH3N2#80, TypeA_subU#81, TypeA_subH1#82, TypeB#83]\n         :        :        :                                         +- Relation[_c0#65,STATENAME#66,ACTIVITYESTIMATE#67,WEEK#68,SEASON#69,POP#70,AREA#71,HealthCare_All#72,HealthCare_Under65#73,HealthCare_Under18#74,HealthCare_Over65#75,INCOME#76,TypeA_subH3#77,TypeA_subH1N1#78,TypeA#79,TypeA_subH3N2#80,TypeA_subU#81,TypeA_subH1#82,TypeB#83] csv\n         :        :        +- Project [SEASON2#267, WEEK#68 AS WEEK2#272, NNoAct#262L]\n         :        :           +- Project [SEASON#69 AS SEASON2#267, WEEK#68, NNoAct#262L]\n         :        :              +- Project [SEASON#69, WEEK#68, count#257L AS NNoAct#262L]\n         :        :                 +- Aggregate [SEASON#69, WEEK#68], [SEASON#69, WEEK#68, count(1) AS count#257L]\n         :        :                    +- Filter (PrevWeek#104 = No Activity)\n         :        :                       +- Project [_c0#65, STATENAME#66, ACTIVITYESTIMATE#67, WEEK#68, SEASON#69, POP#70, AREA#71, HealthCare_All#72, HealthCare_Under65#73, HealthCare_Under18#74, HealthCare_Over65#75, INCOME#76, TypeA_subH3#77, TypeA_subH1N1#78, TypeA#79, TypeA_subH3N2#80, TypeA_subU#81, TypeA_subH1#82, TypeB#83, PrevWeek#104]\n         :        :                          +- Filter NOT (WEEK#68 = 40)\n         :        :                             +- Project [_c0#65, STATENAME#66, ACTIVITYESTIMATE#67, WEEK#68, SEASON#69, POP#70, AREA#71, HealthCare_All#72, HealthCare_Under65#73, HealthCare_Under18#74, HealthCare_Over65#75, INCOME#76, TypeA_subH3#77, TypeA_subH1N1#78, TypeA#79, TypeA_subH3N2#80, TypeA_subU#81, TypeA_subH1#82, TypeB#83, PrevWeek#104]\n         :        :                                +- Project [_c0#65, STATENAME#66, ACTIVITYESTIMATE#67, WEEK#68, SEASON#69, POP#70, AREA#71, HealthCare_All#72, HealthCare_Under65#73, HealthCare_Under18#74, HealthCare_Over65#75, INCOME#76, TypeA_subH3#77, TypeA_subH1N1#78, TypeA#79, TypeA_subH3N2#80, TypeA_subU#81, TypeA_subH1#82, TypeB#83, PrevWeek#104, PrevWeek#104]\n         :        :                                   +- Window [lag(ACTIVITYESTIMATE#67, 1, null) windowspecdefinition(_c0#65 ASC NULLS FIRST, ROWS BETWEEN 1 PRECEDING AND 1 PRECEDING) AS PrevWeek#104], [_c0#65 ASC NULLS FIRST]\n         :        :                                      +- Project [_c0#65, STATENAME#66, ACTIVITYESTIMATE#67, WEEK#68, SEASON#69, POP#70, AREA#71, HealthCare_All#72, HealthCare_Under65#73, HealthCare_Under18#74, HealthCare_Over65#75, INCOME#76, TypeA_subH3#77, TypeA_subH1N1#78, TypeA#79, TypeA_subH3N2#80, TypeA_subU#81, TypeA_subH1#82, TypeB#83]\n         :        :                                         +- Relation[_c0#65,STATENAME#66,ACTIVITYESTIMATE#67,WEEK#68,SEASON#69,POP#70,AREA#71,HealthCare_All#72,HealthCare_Under65#73,HealthCare_Under18#74,HealthCare_Over65#75,INCOME#76,TypeA_subH3#77,TypeA_subH1N1#78,TypeA#79,TypeA_subH3N2#80,TypeA_subU#81,TypeA_subH1#82,TypeB#83] csv\n         :        +- Project [SEASON2#310, WEEK#68 AS WEEK2#315, NRegional#305L]\n         :           +- Project [SEASON#69 AS SEASON2#310, WEEK#68, NRegional#305L]\n         :              +- Project [SEASON#69, WEEK#68, count#300L AS NRegional#305L]\n         :                 +- Aggregate [SEASON#69, WEEK#68], [SEASON#69, WEEK#68, count(1) AS count#300L]\n         :                    +- Filter (PrevWeek#104 = Regional)\n         :                       +- Project [_c0#65, STATENAME#66, ACTIVITYESTIMATE#67, WEEK#68, SEASON#69, POP#70, AREA#71, HealthCare_All#72, HealthCare_Under65#73, HealthCare_Under18#74, HealthCare_Over65#75, INCOME#76, TypeA_subH3#77, TypeA_subH1N1#78, TypeA#79, TypeA_subH3N2#80, TypeA_subU#81, TypeA_subH1#82, TypeB#83, PrevWeek#104]\n         :                          +- Filter NOT (WEEK#68 = 40)\n         :                             +- Project [_c0#65, STATENAME#66, ACTIVITYESTIMATE#67, WEEK#68, SEASON#69, POP#70, AREA#71, HealthCare_All#72, HealthCare_Under65#73, HealthCare_Under18#74, HealthCare_Over65#75, INCOME#76, TypeA_subH3#77, TypeA_subH1N1#78, TypeA#79, TypeA_subH3N2#80, TypeA_subU#81, TypeA_subH1#82, TypeB#83, PrevWeek#104]\n         :                                +- Project [_c0#65, STATENAME#66, ACTIVITYESTIMATE#67, WEEK#68, SEASON#69, POP#70, AREA#71, HealthCare_All#72, HealthCare_Under65#73, HealthCare_Under18#74, HealthCare_Over65#75, INCOME#76, TypeA_subH3#77, TypeA_subH1N1#78, TypeA#79, TypeA_subH3N2#80, TypeA_subU#81, TypeA_subH1#82, TypeB#83, PrevWeek#104, PrevWeek#104]\n         :                                   +- Window [lag(ACTIVITYESTIMATE#67, 1, null) windowspecdefinition(_c0#65 ASC NULLS FIRST, ROWS BETWEEN 1 PRECEDING AND 1 PRECEDING) AS PrevWeek#104], [_c0#65 ASC NULLS FIRST]\n         :                                      +- Project [_c0#65, STATENAME#66, ACTIVITYESTIMATE#67, WEEK#68, SEASON#69, POP#70, AREA#71, HealthCare_All#72, HealthCare_Under65#73, HealthCare_Under18#74, HealthCare_Over65#75, INCOME#76, TypeA_subH3#77, TypeA_subH1N1#78, TypeA#79, TypeA_subH3N2#80, TypeA_subU#81, TypeA_subH1#82, TypeB#83]\n         :                                         +- Relation[_c0#65,STATENAME#66,ACTIVITYESTIMATE#67,WEEK#68,SEASON#69,POP#70,AREA#71,HealthCare_All#72,HealthCare_Under65#73,HealthCare_Under18#74,HealthCare_Over65#75,INCOME#76,TypeA_subH3#77,TypeA_subH1N1#78,TypeA#79,TypeA_subH3N2#80,TypeA_subU#81,TypeA_subH1#82,TypeB#83] csv\n         +- Project [SEASON2#353, WEEK#68 AS WEEK2#358, NWidespread#348L]\n            +- Project [SEASON#69 AS SEASON2#353, WEEK#68, NWidespread#348L]\n               +- Project [SEASON#69, WEEK#68, count#343L AS NWidespread#348L]\n                  +- Aggregate [SEASON#69, WEEK#68], [SEASON#69, WEEK#68, count(1) AS count#343L]\n                     +- Filter (PrevWeek#104 = Widespread)\n                        +- Project [_c0#65, STATENAME#66, ACTIVITYESTIMATE#67, WEEK#68, SEASON#69, POP#70, AREA#71, HealthCare_All#72, HealthCare_Under65#73, HealthCare_Under18#74, HealthCare_Over65#75, INCOME#76, TypeA_subH3#77, TypeA_subH1N1#78, TypeA#79, TypeA_subH3N2#80, TypeA_subU#81, TypeA_subH1#82, TypeB#83, PrevWeek#104]\n                           +- Filter NOT (WEEK#68 = 40)\n                              +- Project [_c0#65, STATENAME#66, ACTIVITYESTIMATE#67, WEEK#68, SEASON#69, POP#70, AREA#71, HealthCare_All#72, HealthCare_Under65#73, HealthCare_Under18#74, HealthCare_Over65#75, INCOME#76, TypeA_subH3#77, TypeA_subH1N1#78, TypeA#79, TypeA_subH3N2#80, TypeA_subU#81, TypeA_subH1#82, TypeB#83, PrevWeek#104]\n                                 +- Project [_c0#65, STATENAME#66, ACTIVITYESTIMATE#67, WEEK#68, SEASON#69, POP#70, AREA#71, HealthCare_All#72, HealthCare_Under65#73, HealthCare_Under18#74, HealthCare_Over65#75, INCOME#76, TypeA_subH3#77, TypeA_subH1N1#78, TypeA#79, TypeA_subH3N2#80, TypeA_subU#81, TypeA_subH1#82, TypeB#83, PrevWeek#104, PrevWeek#104]\n                                    +- Window [lag(ACTIVITYESTIMATE#67, 1, null) windowspecdefinition(_c0#65 ASC NULLS FIRST, ROWS BETWEEN 1 PRECEDING AND 1 PRECEDING) AS PrevWeek#104], [_c0#65 ASC NULLS FIRST]\n                                       +- Project [_c0#65, STATENAME#66, ACTIVITYESTIMATE#67, WEEK#68, SEASON#69, POP#70, AREA#71, HealthCare_All#72, HealthCare_Under65#73, HealthCare_Under18#74, HealthCare_Over65#75, INCOME#76, TypeA_subH3#77, TypeA_subH1N1#78, TypeA#79, TypeA_subH3N2#80, TypeA_subU#81, TypeA_subH1#82, TypeB#83]\n                                          +- Relation[_c0#65,STATENAME#66,ACTIVITYESTIMATE#67,WEEK#68,SEASON#69,POP#70,AREA#71,HealthCare_All#72,HealthCare_Under65#73,HealthCare_Under18#74,HealthCare_Over65#75,INCOME#76,TypeA_subH3#77,TypeA_subH1N1#78,TypeA#79,TypeA_subH3N2#80,TypeA_subU#81,TypeA_subH1#82,TypeB#83] csv\n\n\tat org.apache.spark.sql.catalyst.analysis.CheckAnalysis$class.failAnalysis(CheckAnalysis.scala:39)\n\tat org.apache.spark.sql.catalyst.analysis.Analyzer.failAnalysis(Analyzer.scala:57)\n\tat org.apache.spark.sql.catalyst.analysis.CheckAnalysis$$anonfun$checkAnalysis$1.apply(CheckAnalysis.scala:356)\n\tat org.apache.spark.sql.catalyst.analysis.CheckAnalysis$$anonfun$checkAnalysis$1.apply(CheckAnalysis.scala:76)\n\tat org.apache.spark.sql.catalyst.trees.TreeNode.foreachUp(TreeNode.scala:128)\n\tat org.apache.spark.sql.catalyst.analysis.CheckAnalysis$class.checkAnalysis(CheckAnalysis.scala:76)\n\tat org.apache.spark.sql.catalyst.analysis.Analyzer.checkAnalysis(Analyzer.scala:57)\n\tat org.apache.spark.sql.execution.QueryExecution.assertAnalyzed(QueryExecution.scala:52)\n\tat org.apache.spark.sql.Dataset$.ofRows(Dataset.scala:63)\n\tat org.apache.spark.sql.Dataset.org$apache$spark$sql$Dataset$$withPlan(Dataset.scala:2845)\n\tat org.apache.spark.sql.Dataset.select(Dataset.scala:1131)\n\tat org.apache.spark.sql.Dataset.withColumn(Dataset.scala:1884)\n\tat sun.reflect.NativeMethodAccessorImpl.invoke0(Native Method)\n\tat sun.reflect.NativeMethodAccessorImpl.invoke(NativeMethodAccessorImpl.java:62)\n\tat sun.reflect.DelegatingMethodAccessorImpl.invoke(DelegatingMethodAccessorImpl.java:43)\n\tat java.lang.reflect.Method.invoke(Method.java:498)\n\tat py4j.reflection.MethodInvoker.invoke(MethodInvoker.java:244)\n\tat py4j.reflection.ReflectionEngine.invoke(ReflectionEngine.java:357)\n\tat py4j.Gateway.invoke(Gateway.java:280)\n\tat py4j.commands.AbstractCommand.invokeMethod(AbstractCommand.java:132)\n\tat py4j.commands.CallCommand.execute(CallCommand.java:79)\n\tat py4j.GatewayConnection.run(GatewayConnection.java:214)\n\tat java.lang.Thread.run(Thread.java:748)\n",
      "\nDuring handling of the above exception, another exception occurred:\n",
      "\u001b[0;31mAnalysisException\u001b[0m                         Traceback (most recent call last)",
      "\u001b[0;32m<ipython-input-14-1d182ec1e3f8>\u001b[0m in \u001b[0;36m<module>\u001b[0;34m()\u001b[0m\n\u001b[0;32m----> 1\u001b[0;31m \u001b[0mtraintest\u001b[0m\u001b[0;34m.\u001b[0m\u001b[0mwithColumn\u001b[0m\u001b[0;34m(\u001b[0m\u001b[0;34m'SinceAct'\u001b[0m\u001b[0;34m,\u001b[0m\u001b[0mSA\u001b[0m\u001b[0;34m[\u001b[0m\u001b[0;34m'SinceAct'\u001b[0m\u001b[0;34m]\u001b[0m\u001b[0;34m)\u001b[0m\u001b[0;34m.\u001b[0m\u001b[0mshow\u001b[0m\u001b[0;34m(\u001b[0m\u001b[0;36m50\u001b[0m\u001b[0;34m)\u001b[0m\u001b[0;34m\u001b[0m\u001b[0m\n\u001b[0m",
      "\u001b[0;32m~/spark-2.1.1-bin-hadoop2.7/python/pyspark/sql/dataframe.py\u001b[0m in \u001b[0;36mwithColumn\u001b[0;34m(self, colName, col)\u001b[0m\n\u001b[1;32m   1500\u001b[0m         \"\"\"\n\u001b[1;32m   1501\u001b[0m         \u001b[0;32massert\u001b[0m \u001b[0misinstance\u001b[0m\u001b[0;34m(\u001b[0m\u001b[0mcol\u001b[0m\u001b[0;34m,\u001b[0m \u001b[0mColumn\u001b[0m\u001b[0;34m)\u001b[0m\u001b[0;34m,\u001b[0m \u001b[0;34m\"col should be Column\"\u001b[0m\u001b[0;34m\u001b[0m\u001b[0m\n\u001b[0;32m-> 1502\u001b[0;31m         \u001b[0;32mreturn\u001b[0m \u001b[0mDataFrame\u001b[0m\u001b[0;34m(\u001b[0m\u001b[0mself\u001b[0m\u001b[0;34m.\u001b[0m\u001b[0m_jdf\u001b[0m\u001b[0;34m.\u001b[0m\u001b[0mwithColumn\u001b[0m\u001b[0;34m(\u001b[0m\u001b[0mcolName\u001b[0m\u001b[0;34m,\u001b[0m \u001b[0mcol\u001b[0m\u001b[0;34m.\u001b[0m\u001b[0m_jc\u001b[0m\u001b[0;34m)\u001b[0m\u001b[0;34m,\u001b[0m \u001b[0mself\u001b[0m\u001b[0;34m.\u001b[0m\u001b[0msql_ctx\u001b[0m\u001b[0;34m)\u001b[0m\u001b[0;34m\u001b[0m\u001b[0m\n\u001b[0m\u001b[1;32m   1503\u001b[0m \u001b[0;34m\u001b[0m\u001b[0m\n\u001b[1;32m   1504\u001b[0m     \u001b[0;34m@\u001b[0m\u001b[0mignore_unicode_prefix\u001b[0m\u001b[0;34m\u001b[0m\u001b[0m\n",
      "\u001b[0;32m~/spark-2.1.1-bin-hadoop2.7/python/lib/py4j-0.10.4-src.zip/py4j/java_gateway.py\u001b[0m in \u001b[0;36m__call__\u001b[0;34m(self, *args)\u001b[0m\n\u001b[1;32m   1131\u001b[0m         \u001b[0manswer\u001b[0m \u001b[0;34m=\u001b[0m \u001b[0mself\u001b[0m\u001b[0;34m.\u001b[0m\u001b[0mgateway_client\u001b[0m\u001b[0;34m.\u001b[0m\u001b[0msend_command\u001b[0m\u001b[0;34m(\u001b[0m\u001b[0mcommand\u001b[0m\u001b[0;34m)\u001b[0m\u001b[0;34m\u001b[0m\u001b[0m\n\u001b[1;32m   1132\u001b[0m         return_value = get_return_value(\n\u001b[0;32m-> 1133\u001b[0;31m             answer, self.gateway_client, self.target_id, self.name)\n\u001b[0m\u001b[1;32m   1134\u001b[0m \u001b[0;34m\u001b[0m\u001b[0m\n\u001b[1;32m   1135\u001b[0m         \u001b[0;32mfor\u001b[0m \u001b[0mtemp_arg\u001b[0m \u001b[0;32min\u001b[0m \u001b[0mtemp_args\u001b[0m\u001b[0;34m:\u001b[0m\u001b[0;34m\u001b[0m\u001b[0m\n",
      "\u001b[0;32m~/spark-2.1.1-bin-hadoop2.7/python/pyspark/sql/utils.py\u001b[0m in \u001b[0;36mdeco\u001b[0;34m(*a, **kw)\u001b[0m\n\u001b[1;32m     67\u001b[0m                                              e.java_exception.getStackTrace()))\n\u001b[1;32m     68\u001b[0m             \u001b[0;32mif\u001b[0m \u001b[0ms\u001b[0m\u001b[0;34m.\u001b[0m\u001b[0mstartswith\u001b[0m\u001b[0;34m(\u001b[0m\u001b[0;34m'org.apache.spark.sql.AnalysisException: '\u001b[0m\u001b[0;34m)\u001b[0m\u001b[0;34m:\u001b[0m\u001b[0;34m\u001b[0m\u001b[0m\n\u001b[0;32m---> 69\u001b[0;31m                 \u001b[0;32mraise\u001b[0m \u001b[0mAnalysisException\u001b[0m\u001b[0;34m(\u001b[0m\u001b[0ms\u001b[0m\u001b[0;34m.\u001b[0m\u001b[0msplit\u001b[0m\u001b[0;34m(\u001b[0m\u001b[0;34m': '\u001b[0m\u001b[0;34m,\u001b[0m \u001b[0;36m1\u001b[0m\u001b[0;34m)\u001b[0m\u001b[0;34m[\u001b[0m\u001b[0;36m1\u001b[0m\u001b[0;34m]\u001b[0m\u001b[0;34m,\u001b[0m \u001b[0mstackTrace\u001b[0m\u001b[0;34m)\u001b[0m\u001b[0;34m\u001b[0m\u001b[0m\n\u001b[0m\u001b[1;32m     70\u001b[0m             \u001b[0;32mif\u001b[0m \u001b[0ms\u001b[0m\u001b[0;34m.\u001b[0m\u001b[0mstartswith\u001b[0m\u001b[0;34m(\u001b[0m\u001b[0;34m'org.apache.spark.sql.catalyst.analysis'\u001b[0m\u001b[0;34m)\u001b[0m\u001b[0;34m:\u001b[0m\u001b[0;34m\u001b[0m\u001b[0m\n\u001b[1;32m     71\u001b[0m                 \u001b[0;32mraise\u001b[0m \u001b[0mAnalysisException\u001b[0m\u001b[0;34m(\u001b[0m\u001b[0ms\u001b[0m\u001b[0;34m.\u001b[0m\u001b[0msplit\u001b[0m\u001b[0;34m(\u001b[0m\u001b[0;34m': '\u001b[0m\u001b[0;34m,\u001b[0m \u001b[0;36m1\u001b[0m\u001b[0;34m)\u001b[0m\u001b[0;34m[\u001b[0m\u001b[0;36m1\u001b[0m\u001b[0;34m]\u001b[0m\u001b[0;34m,\u001b[0m \u001b[0mstackTrace\u001b[0m\u001b[0;34m)\u001b[0m\u001b[0;34m\u001b[0m\u001b[0m\n",
      "\u001b[0;31mAnalysisException\u001b[0m: 'resolved attribute(s) SinceAct#1105 missing from HealthCare_Over65#75,NNoAct#262L,AREA#71,SEASON#69,HealthCare_Under65#73,POP#70,NLocalAct#219L,TypeA#79,STATENAME#66,INCOME#76,ACTIVITYESTIMATE#67,HealthCare_All#72,NWidespread#348L,WEEK#68,TypeB#83,_c0#65,TypeA_subH3#77,NRegional#305L,TypeA_subH1N1#78,TypeA_subH3N2#80,TypeA_subU#81,TypeA_subH1#82,PrevWeek#104,NSporadic#176L,HealthCare_Under18#74 in operator !Project [_c0#65, STATENAME#66, ACTIVITYESTIMATE#67, WEEK#68, SEASON#69, POP#70, AREA#71, HealthCare_All#72, HealthCare_Under65#73, HealthCare_Under18#74, HealthCare_Over65#75, INCOME#76, TypeA_subH3#77, TypeA_subH1N1#78, TypeA#79, TypeA_subH3N2#80, TypeA_subU#81, TypeA_subH1#82, TypeB#83, PrevWeek#104, NSporadic#176L, NLocalAct#219L, NNoAct#262L, NRegional#305L, ... 2 more fields];;\\n!Project [_c0#65, STATENAME#66, ACTIVITYESTIMATE#67, WEEK#68, SEASON#69, POP#70, AREA#71, HealthCare_All#72, HealthCare_Under65#73, HealthCare_Under18#74, HealthCare_Over65#75, INCOME#76, TypeA_subH3#77, TypeA_subH1N1#78, TypeA#79, TypeA_subH3N2#80, TypeA_subU#81, TypeA_subH1#82, TypeB#83, PrevWeek#104, NSporadic#176L, NLocalAct#219L, NNoAct#262L, NRegional#305L, ... 2 more fields]\\n+- Project [_c0#65, STATENAME#66, ACTIVITYESTIMATE#67, WEEK#68, SEASON#69, POP#70, AREA#71, HealthCare_All#72, HealthCare_Under65#73, HealthCare_Under18#74, HealthCare_Over65#75, INCOME#76, TypeA_subH3#77, TypeA_subH1N1#78, TypeA#79, TypeA_subH3N2#80, TypeA_subU#81, TypeA_subH1#82, TypeB#83, PrevWeek#104, NSporadic#176L, NLocalAct#219L, NNoAct#262L, NRegional#305L, NWidespread#348L]\\n   +- Project [_c0#65, STATENAME#66, ACTIVITYESTIMATE#67, WEEK#68, SEASON#69, POP#70, AREA#71, HealthCare_All#72, HealthCare_Under65#73, HealthCare_Under18#74, HealthCare_Over65#75, INCOME#76, TypeA_subH3#77, TypeA_subH1N1#78, TypeA#79, TypeA_subH3N2#80, TypeA_subU#81, TypeA_subH1#82, TypeB#83, PrevWeek#104, NSporadic#176L, NLocalAct#219L, NNoAct#262L, NRegional#305L, ... 2 more fields]\\n      +- Join LeftOuter, ((SEASON#69 = SEASON2#353) && (WEEK#68 = WEEK2#358))\\n         :- Project [_c0#65, STATENAME#66, ACTIVITYESTIMATE#67, WEEK#68, SEASON#69, POP#70, AREA#71, HealthCare_All#72, HealthCare_Under65#73, HealthCare_Under18#74, HealthCare_Over65#75, INCOME#76, TypeA_subH3#77, TypeA_subH1N1#78, TypeA#79, TypeA_subH3N2#80, TypeA_subU#81, TypeA_subH1#82, TypeB#83, PrevWeek#104, NSporadic#176L, NLocalAct#219L, NNoAct#262L, NRegional#305L]\\n         :  +- Project [_c0#65, STATENAME#66, ACTIVITYESTIMATE#67, WEEK#68, SEASON#69, POP#70, AREA#71, HealthCare_All#72, HealthCare_Under65#73, HealthCare_Under18#74, HealthCare_Over65#75, INCOME#76, TypeA_subH3#77, TypeA_subH1N1#78, TypeA#79, TypeA_subH3N2#80, TypeA_subU#81, TypeA_subH1#82, TypeB#83, PrevWeek#104, NSporadic#176L, NLocalAct#219L, NNoAct#262L, WEEK2#315, NRegional#305L]\\n         :     +- Join LeftOuter, ((SEASON#69 = SEASON2#310) && (WEEK#68 = WEEK2#315))\\n         :        :- Project [_c0#65, STATENAME#66, ACTIVITYESTIMATE#67, WEEK#68, SEASON#69, POP#70, AREA#71, HealthCare_All#72, HealthCare_Under65#73, HealthCare_Under18#74, HealthCare_Over65#75, INCOME#76, TypeA_subH3#77, TypeA_subH1N1#78, TypeA#79, TypeA_subH3N2#80, TypeA_subU#81, TypeA_subH1#82, TypeB#83, PrevWeek#104, NSporadic#176L, NLocalAct#219L, NNoAct#262L]\\n         :        :  +- Project [_c0#65, STATENAME#66, ACTIVITYESTIMATE#67, WEEK#68, SEASON#69, POP#70, AREA#71, HealthCare_All#72, HealthCare_Under65#73, HealthCare_Under18#74, HealthCare_Over65#75, INCOME#76, TypeA_subH3#77, TypeA_subH1N1#78, TypeA#79, TypeA_subH3N2#80, TypeA_subU#81, TypeA_subH1#82, TypeB#83, PrevWeek#104, NSporadic#176L, NLocalAct#219L, WEEK2#272, NNoAct#262L]\\n         :        :     +- Join LeftOuter, ((SEASON#69 = SEASON2#267) && (WEEK#68 = WEEK2#272))\\n         :        :        :- Project [_c0#65, STATENAME#66, ACTIVITYESTIMATE#67, WEEK#68, SEASON#69, POP#70, AREA#71, HealthCare_All#72, HealthCare_Under65#73, HealthCare_Under18#74, HealthCare_Over65#75, INCOME#76, TypeA_subH3#77, TypeA_subH1N1#78, TypeA#79, TypeA_subH3N2#80, TypeA_subU#81, TypeA_subH1#82, TypeB#83, PrevWeek#104, NSporadic#176L, NLocalAct#219L]\\n         :        :        :  +- Project [_c0#65, STATENAME#66, ACTIVITYESTIMATE#67, WEEK#68, SEASON#69, POP#70, AREA#71, HealthCare_All#72, HealthCare_Under65#73, HealthCare_Under18#74, HealthCare_Over65#75, INCOME#76, TypeA_subH3#77, TypeA_subH1N1#78, TypeA#79, TypeA_subH3N2#80, TypeA_subU#81, TypeA_subH1#82, TypeB#83, PrevWeek#104, NSporadic#176L, WEEK2#229, NLocalAct#219L]\\n         :        :        :     +- Join LeftOuter, ((SEASON#69 = SEASON2#224) && (WEEK#68 = WEEK2#229))\\n         :        :        :        :- Project [_c0#65, STATENAME#66, ACTIVITYESTIMATE#67, WEEK#68, SEASON#69, POP#70, AREA#71, HealthCare_All#72, HealthCare_Under65#73, HealthCare_Under18#74, HealthCare_Over65#75, INCOME#76, TypeA_subH3#77, TypeA_subH1N1#78, TypeA#79, TypeA_subH3N2#80, TypeA_subU#81, TypeA_subH1#82, TypeB#83, PrevWeek#104, NSporadic#176L]\\n         :        :        :        :  +- Project [_c0#65, STATENAME#66, ACTIVITYESTIMATE#67, WEEK#68, SEASON#69, POP#70, AREA#71, HealthCare_All#72, HealthCare_Under65#73, HealthCare_Under18#74, HealthCare_Over65#75, INCOME#76, TypeA_subH3#77, TypeA_subH1N1#78, TypeA#79, TypeA_subH3N2#80, TypeA_subU#81, TypeA_subH1#82, TypeB#83, PrevWeek#104, WEEK2#186, NSporadic#176L]\\n         :        :        :        :     +- Join LeftOuter, ((SEASON#69 = SEASON2#181) && (WEEK#68 = WEEK2#186))\\n         :        :        :        :        :- Project [_c0#65, STATENAME#66, ACTIVITYESTIMATE#67, WEEK#68, SEASON#69, POP#70, AREA#71, HealthCare_All#72, HealthCare_Under65#73, HealthCare_Under18#74, HealthCare_Over65#75, INCOME#76, TypeA_subH3#77, TypeA_subH1N1#78, TypeA#79, TypeA_subH3N2#80, TypeA_subU#81, TypeA_subH1#82, TypeB#83, PrevWeek#104]\\n         :        :        :        :        :  +- Filter NOT (WEEK#68 = 40)\\n         :        :        :        :        :     +- Project [_c0#65, STATENAME#66, ACTIVITYESTIMATE#67, WEEK#68, SEASON#69, POP#70, AREA#71, HealthCare_All#72, HealthCare_Under65#73, HealthCare_Under18#74, HealthCare_Over65#75, INCOME#76, TypeA_subH3#77, TypeA_subH1N1#78, TypeA#79, TypeA_subH3N2#80, TypeA_subU#81, TypeA_subH1#82, TypeB#83, PrevWeek#104]\\n         :        :        :        :        :        +- Project [_c0#65, STATENAME#66, ACTIVITYESTIMATE#67, WEEK#68, SEASON#69, POP#70, AREA#71, HealthCare_All#72, HealthCare_Under65#73, HealthCare_Under18#74, HealthCare_Over65#75, INCOME#76, TypeA_subH3#77, TypeA_subH1N1#78, TypeA#79, TypeA_subH3N2#80, TypeA_subU#81, TypeA_subH1#82, TypeB#83, PrevWeek#104, PrevWeek#104]\\n         :        :        :        :        :           +- Window [lag(ACTIVITYESTIMATE#67, 1, null) windowspecdefinition(_c0#65 ASC NULLS FIRST, ROWS BETWEEN 1 PRECEDING AND 1 PRECEDING) AS PrevWeek#104], [_c0#65 ASC NULLS FIRST]\\n         :        :        :        :        :              +- Project [_c0#65, STATENAME#66, ACTIVITYESTIMATE#67, WEEK#68, SEASON#69, POP#70, AREA#71, HealthCare_All#72, HealthCare_Under65#73, HealthCare_Under18#74, HealthCare_Over65#75, INCOME#76, TypeA_subH3#77, TypeA_subH1N1#78, TypeA#79, TypeA_subH3N2#80, TypeA_subU#81, TypeA_subH1#82, TypeB#83]\\n         :        :        :        :        :                 +- Relation[_c0#65,STATENAME#66,ACTIVITYESTIMATE#67,WEEK#68,SEASON#69,POP#70,AREA#71,HealthCare_All#72,HealthCare_Under65#73,HealthCare_Under18#74,HealthCare_Over65#75,INCOME#76,TypeA_subH3#77,TypeA_subH1N1#78,TypeA#79,TypeA_subH3N2#80,TypeA_subU#81,TypeA_subH1#82,TypeB#83] csv\\n         :        :        :        :        +- Project [SEASON2#181, WEEK#68 AS WEEK2#186, NSporadic#176L]\\n         :        :        :        :           +- Project [SEASON#69 AS SEASON2#181, WEEK#68, NSporadic#176L]\\n         :        :        :        :              +- Project [SEASON#69, WEEK#68, count#171L AS NSporadic#176L]\\n         :        :        :        :                 +- Aggregate [SEASON#69, WEEK#68], [SEASON#69, WEEK#68, count(1) AS count#171L]\\n         :        :        :        :                    +- Filter (PrevWeek#104 = Sporadic)\\n         :        :        :        :                       +- Project [_c0#65, STATENAME#66, ACTIVITYESTIMATE#67, WEEK#68, SEASON#69, POP#70, AREA#71, HealthCare_All#72, HealthCare_Under65#73, HealthCare_Under18#74, HealthCare_Over65#75, INCOME#76, TypeA_subH3#77, TypeA_subH1N1#78, TypeA#79, TypeA_subH3N2#80, TypeA_subU#81, TypeA_subH1#82, TypeB#83, PrevWeek#104]\\n         :        :        :        :                          +- Filter NOT (WEEK#68 = 40)\\n         :        :        :        :                             +- Project [_c0#65, STATENAME#66, ACTIVITYESTIMATE#67, WEEK#68, SEASON#69, POP#70, AREA#71, HealthCare_All#72, HealthCare_Under65#73, HealthCare_Under18#74, HealthCare_Over65#75, INCOME#76, TypeA_subH3#77, TypeA_subH1N1#78, TypeA#79, TypeA_subH3N2#80, TypeA_subU#81, TypeA_subH1#82, TypeB#83, PrevWeek#104]\\n         :        :        :        :                                +- Project [_c0#65, STATENAME#66, ACTIVITYESTIMATE#67, WEEK#68, SEASON#69, POP#70, AREA#71, HealthCare_All#72, HealthCare_Under65#73, HealthCare_Under18#74, HealthCare_Over65#75, INCOME#76, TypeA_subH3#77, TypeA_subH1N1#78, TypeA#79, TypeA_subH3N2#80, TypeA_subU#81, TypeA_subH1#82, TypeB#83, PrevWeek#104, PrevWeek#104]\\n         :        :        :        :                                   +- Window [lag(ACTIVITYESTIMATE#67, 1, null) windowspecdefinition(_c0#65 ASC NULLS FIRST, ROWS BETWEEN 1 PRECEDING AND 1 PRECEDING) AS PrevWeek#104], [_c0#65 ASC NULLS FIRST]\\n         :        :        :        :                                      +- Project [_c0#65, STATENAME#66, ACTIVITYESTIMATE#67, WEEK#68, SEASON#69, POP#70, AREA#71, HealthCare_All#72, HealthCare_Under65#73, HealthCare_Under18#74, HealthCare_Over65#75, INCOME#76, TypeA_subH3#77, TypeA_subH1N1#78, TypeA#79, TypeA_subH3N2#80, TypeA_subU#81, TypeA_subH1#82, TypeB#83]\\n         :        :        :        :                                         +- Relation[_c0#65,STATENAME#66,ACTIVITYESTIMATE#67,WEEK#68,SEASON#69,POP#70,AREA#71,HealthCare_All#72,HealthCare_Under65#73,HealthCare_Under18#74,HealthCare_Over65#75,INCOME#76,TypeA_subH3#77,TypeA_subH1N1#78,TypeA#79,TypeA_subH3N2#80,TypeA_subU#81,TypeA_subH1#82,TypeB#83] csv\\n         :        :        :        +- Project [SEASON2#224, WEEK#68 AS WEEK2#229, NLocalAct#219L]\\n         :        :        :           +- Project [SEASON#69 AS SEASON2#224, WEEK#68, NLocalAct#219L]\\n         :        :        :              +- Project [SEASON#69, WEEK#68, count#214L AS NLocalAct#219L]\\n         :        :        :                 +- Aggregate [SEASON#69, WEEK#68], [SEASON#69, WEEK#68, count(1) AS count#214L]\\n         :        :        :                    +- Filter (PrevWeek#104 = Local Activity)\\n         :        :        :                       +- Project [_c0#65, STATENAME#66, ACTIVITYESTIMATE#67, WEEK#68, SEASON#69, POP#70, AREA#71, HealthCare_All#72, HealthCare_Under65#73, HealthCare_Under18#74, HealthCare_Over65#75, INCOME#76, TypeA_subH3#77, TypeA_subH1N1#78, TypeA#79, TypeA_subH3N2#80, TypeA_subU#81, TypeA_subH1#82, TypeB#83, PrevWeek#104]\\n         :        :        :                          +- Filter NOT (WEEK#68 = 40)\\n         :        :        :                             +- Project [_c0#65, STATENAME#66, ACTIVITYESTIMATE#67, WEEK#68, SEASON#69, POP#70, AREA#71, HealthCare_All#72, HealthCare_Under65#73, HealthCare_Under18#74, HealthCare_Over65#75, INCOME#76, TypeA_subH3#77, TypeA_subH1N1#78, TypeA#79, TypeA_subH3N2#80, TypeA_subU#81, TypeA_subH1#82, TypeB#83, PrevWeek#104]\\n         :        :        :                                +- Project [_c0#65, STATENAME#66, ACTIVITYESTIMATE#67, WEEK#68, SEASON#69, POP#70, AREA#71, HealthCare_All#72, HealthCare_Under65#73, HealthCare_Under18#74, HealthCare_Over65#75, INCOME#76, TypeA_subH3#77, TypeA_subH1N1#78, TypeA#79, TypeA_subH3N2#80, TypeA_subU#81, TypeA_subH1#82, TypeB#83, PrevWeek#104, PrevWeek#104]\\n         :        :        :                                   +- Window [lag(ACTIVITYESTIMATE#67, 1, null) windowspecdefinition(_c0#65 ASC NULLS FIRST, ROWS BETWEEN 1 PRECEDING AND 1 PRECEDING) AS PrevWeek#104], [_c0#65 ASC NULLS FIRST]\\n         :        :        :                                      +- Project [_c0#65, STATENAME#66, ACTIVITYESTIMATE#67, WEEK#68, SEASON#69, POP#70, AREA#71, HealthCare_All#72, HealthCare_Under65#73, HealthCare_Under18#74, HealthCare_Over65#75, INCOME#76, TypeA_subH3#77, TypeA_subH1N1#78, TypeA#79, TypeA_subH3N2#80, TypeA_subU#81, TypeA_subH1#82, TypeB#83]\\n         :        :        :                                         +- Relation[_c0#65,STATENAME#66,ACTIVITYESTIMATE#67,WEEK#68,SEASON#69,POP#70,AREA#71,HealthCare_All#72,HealthCare_Under65#73,HealthCare_Under18#74,HealthCare_Over65#75,INCOME#76,TypeA_subH3#77,TypeA_subH1N1#78,TypeA#79,TypeA_subH3N2#80,TypeA_subU#81,TypeA_subH1#82,TypeB#83] csv\\n         :        :        +- Project [SEASON2#267, WEEK#68 AS WEEK2#272, NNoAct#262L]\\n         :        :           +- Project [SEASON#69 AS SEASON2#267, WEEK#68, NNoAct#262L]\\n         :        :              +- Project [SEASON#69, WEEK#68, count#257L AS NNoAct#262L]\\n         :        :                 +- Aggregate [SEASON#69, WEEK#68], [SEASON#69, WEEK#68, count(1) AS count#257L]\\n         :        :                    +- Filter (PrevWeek#104 = No Activity)\\n         :        :                       +- Project [_c0#65, STATENAME#66, ACTIVITYESTIMATE#67, WEEK#68, SEASON#69, POP#70, AREA#71, HealthCare_All#72, HealthCare_Under65#73, HealthCare_Under18#74, HealthCare_Over65#75, INCOME#76, TypeA_subH3#77, TypeA_subH1N1#78, TypeA#79, TypeA_subH3N2#80, TypeA_subU#81, TypeA_subH1#82, TypeB#83, PrevWeek#104]\\n         :        :                          +- Filter NOT (WEEK#68 = 40)\\n         :        :                             +- Project [_c0#65, STATENAME#66, ACTIVITYESTIMATE#67, WEEK#68, SEASON#69, POP#70, AREA#71, HealthCare_All#72, HealthCare_Under65#73, HealthCare_Under18#74, HealthCare_Over65#75, INCOME#76, TypeA_subH3#77, TypeA_subH1N1#78, TypeA#79, TypeA_subH3N2#80, TypeA_subU#81, TypeA_subH1#82, TypeB#83, PrevWeek#104]\\n         :        :                                +- Project [_c0#65, STATENAME#66, ACTIVITYESTIMATE#67, WEEK#68, SEASON#69, POP#70, AREA#71, HealthCare_All#72, HealthCare_Under65#73, HealthCare_Under18#74, HealthCare_Over65#75, INCOME#76, TypeA_subH3#77, TypeA_subH1N1#78, TypeA#79, TypeA_subH3N2#80, TypeA_subU#81, TypeA_subH1#82, TypeB#83, PrevWeek#104, PrevWeek#104]\\n         :        :                                   +- Window [lag(ACTIVITYESTIMATE#67, 1, null) windowspecdefinition(_c0#65 ASC NULLS FIRST, ROWS BETWEEN 1 PRECEDING AND 1 PRECEDING) AS PrevWeek#104], [_c0#65 ASC NULLS FIRST]\\n         :        :                                      +- Project [_c0#65, STATENAME#66, ACTIVITYESTIMATE#67, WEEK#68, SEASON#69, POP#70, AREA#71, HealthCare_All#72, HealthCare_Under65#73, HealthCare_Under18#74, HealthCare_Over65#75, INCOME#76, TypeA_subH3#77, TypeA_subH1N1#78, TypeA#79, TypeA_subH3N2#80, TypeA_subU#81, TypeA_subH1#82, TypeB#83]\\n         :        :                                         +- Relation[_c0#65,STATENAME#66,ACTIVITYESTIMATE#67,WEEK#68,SEASON#69,POP#70,AREA#71,HealthCare_All#72,HealthCare_Under65#73,HealthCare_Under18#74,HealthCare_Over65#75,INCOME#76,TypeA_subH3#77,TypeA_subH1N1#78,TypeA#79,TypeA_subH3N2#80,TypeA_subU#81,TypeA_subH1#82,TypeB#83] csv\\n         :        +- Project [SEASON2#310, WEEK#68 AS WEEK2#315, NRegional#305L]\\n         :           +- Project [SEASON#69 AS SEASON2#310, WEEK#68, NRegional#305L]\\n         :              +- Project [SEASON#69, WEEK#68, count#300L AS NRegional#305L]\\n         :                 +- Aggregate [SEASON#69, WEEK#68], [SEASON#69, WEEK#68, count(1) AS count#300L]\\n         :                    +- Filter (PrevWeek#104 = Regional)\\n         :                       +- Project [_c0#65, STATENAME#66, ACTIVITYESTIMATE#67, WEEK#68, SEASON#69, POP#70, AREA#71, HealthCare_All#72, HealthCare_Under65#73, HealthCare_Under18#74, HealthCare_Over65#75, INCOME#76, TypeA_subH3#77, TypeA_subH1N1#78, TypeA#79, TypeA_subH3N2#80, TypeA_subU#81, TypeA_subH1#82, TypeB#83, PrevWeek#104]\\n         :                          +- Filter NOT (WEEK#68 = 40)\\n         :                             +- Project [_c0#65, STATENAME#66, ACTIVITYESTIMATE#67, WEEK#68, SEASON#69, POP#70, AREA#71, HealthCare_All#72, HealthCare_Under65#73, HealthCare_Under18#74, HealthCare_Over65#75, INCOME#76, TypeA_subH3#77, TypeA_subH1N1#78, TypeA#79, TypeA_subH3N2#80, TypeA_subU#81, TypeA_subH1#82, TypeB#83, PrevWeek#104]\\n         :                                +- Project [_c0#65, STATENAME#66, ACTIVITYESTIMATE#67, WEEK#68, SEASON#69, POP#70, AREA#71, HealthCare_All#72, HealthCare_Under65#73, HealthCare_Under18#74, HealthCare_Over65#75, INCOME#76, TypeA_subH3#77, TypeA_subH1N1#78, TypeA#79, TypeA_subH3N2#80, TypeA_subU#81, TypeA_subH1#82, TypeB#83, PrevWeek#104, PrevWeek#104]\\n         :                                   +- Window [lag(ACTIVITYESTIMATE#67, 1, null) windowspecdefinition(_c0#65 ASC NULLS FIRST, ROWS BETWEEN 1 PRECEDING AND 1 PRECEDING) AS PrevWeek#104], [_c0#65 ASC NULLS FIRST]\\n         :                                      +- Project [_c0#65, STATENAME#66, ACTIVITYESTIMATE#67, WEEK#68, SEASON#69, POP#70, AREA#71, HealthCare_All#72, HealthCare_Under65#73, HealthCare_Under18#74, HealthCare_Over65#75, INCOME#76, TypeA_subH3#77, TypeA_subH1N1#78, TypeA#79, TypeA_subH3N2#80, TypeA_subU#81, TypeA_subH1#82, TypeB#83]\\n         :                                         +- Relation[_c0#65,STATENAME#66,ACTIVITYESTIMATE#67,WEEK#68,SEASON#69,POP#70,AREA#71,HealthCare_All#72,HealthCare_Under65#73,HealthCare_Under18#74,HealthCare_Over65#75,INCOME#76,TypeA_subH3#77,TypeA_subH1N1#78,TypeA#79,TypeA_subH3N2#80,TypeA_subU#81,TypeA_subH1#82,TypeB#83] csv\\n         +- Project [SEASON2#353, WEEK#68 AS WEEK2#358, NWidespread#348L]\\n            +- Project [SEASON#69 AS SEASON2#353, WEEK#68, NWidespread#348L]\\n               +- Project [SEASON#69, WEEK#68, count#343L AS NWidespread#348L]\\n                  +- Aggregate [SEASON#69, WEEK#68], [SEASON#69, WEEK#68, count(1) AS count#343L]\\n                     +- Filter (PrevWeek#104 = Widespread)\\n                        +- Project [_c0#65, STATENAME#66, ACTIVITYESTIMATE#67, WEEK#68, SEASON#69, POP#70, AREA#71, HealthCare_All#72, HealthCare_Under65#73, HealthCare_Under18#74, HealthCare_Over65#75, INCOME#76, TypeA_subH3#77, TypeA_subH1N1#78, TypeA#79, TypeA_subH3N2#80, TypeA_subU#81, TypeA_subH1#82, TypeB#83, PrevWeek#104]\\n                           +- Filter NOT (WEEK#68 = 40)\\n                              +- Project [_c0#65, STATENAME#66, ACTIVITYESTIMATE#67, WEEK#68, SEASON#69, POP#70, AREA#71, HealthCare_All#72, HealthCare_Under65#73, HealthCare_Under18#74, HealthCare_Over65#75, INCOME#76, TypeA_subH3#77, TypeA_subH1N1#78, TypeA#79, TypeA_subH3N2#80, TypeA_subU#81, TypeA_subH1#82, TypeB#83, PrevWeek#104]\\n                                 +- Project [_c0#65, STATENAME#66, ACTIVITYESTIMATE#67, WEEK#68, SEASON#69, POP#70, AREA#71, HealthCare_All#72, HealthCare_Under65#73, HealthCare_Under18#74, HealthCare_Over65#75, INCOME#76, TypeA_subH3#77, TypeA_subH1N1#78, TypeA#79, TypeA_subH3N2#80, TypeA_subU#81, TypeA_subH1#82, TypeB#83, PrevWeek#104, PrevWeek#104]\\n                                    +- Window [lag(ACTIVITYESTIMATE#67, 1, null) windowspecdefinition(_c0#65 ASC NULLS FIRST, ROWS BETWEEN 1 PRECEDING AND 1 PRECEDING) AS PrevWeek#104], [_c0#65 ASC NULLS FIRST]\\n                                       +- Project [_c0#65, STATENAME#66, ACTIVITYESTIMATE#67, WEEK#68, SEASON#69, POP#70, AREA#71, HealthCare_All#72, HealthCare_Under65#73, HealthCare_Under18#74, HealthCare_Over65#75, INCOME#76, TypeA_subH3#77, TypeA_subH1N1#78, TypeA#79, TypeA_subH3N2#80, TypeA_subU#81, TypeA_subH1#82, TypeB#83]\\n                                          +- Relation[_c0#65,STATENAME#66,ACTIVITYESTIMATE#67,WEEK#68,SEASON#69,POP#70,AREA#71,HealthCare_All#72,HealthCare_Under65#73,HealthCare_Under18#74,HealthCare_Over65#75,INCOME#76,TypeA_subH3#77,TypeA_subH1N1#78,TypeA#79,TypeA_subH3N2#80,TypeA_subU#81,TypeA_subH1#82,TypeB#83] csv\\n'"
     ]
    }
   ],
   "source": [
    "traintest.withColumn('SinceAct',SA['SinceAct']).show(50)"
   ]
  },
  {
   "cell_type": "code",
   "execution_count": 17,
   "metadata": {},
   "outputs": [
    {
     "name": "stdout",
     "output_type": "stream",
     "text": [
      "1 1\n",
      "2 2\n",
      "3 3\n",
      "4 3\n",
      "5 3\n",
      "6 3\n"
     ]
    }
   ],
   "source": []
  },
  {
   "cell_type": "markdown",
   "metadata": {},
   "source": [
    "# Tree classification"
   ]
  },
  {
   "cell_type": "code",
   "execution_count": 5,
   "metadata": {},
   "outputs": [],
   "source": [
    "from pyspark.ml import Pipeline\n",
    "from pyspark.ml.classification import (RandomForestClassifier, GBTClassifier, DecisionTreeClassifier)\n",
    "from pyspark.ml.evaluation import MulticlassClassificationEvaluator"
   ]
  },
  {
   "cell_type": "markdown",
   "metadata": {},
   "source": [
    "#### Formating the data"
   ]
  },
  {
   "cell_type": "code",
   "execution_count": 6,
   "metadata": {},
   "outputs": [],
   "source": [
    "from pyspark.ml.feature import (VectorAssembler,VectorIndexer,\n",
    "                                OneHotEncoder,StringIndexer)\n",
    "from pyspark.ml.linalg import Vectors"
   ]
  },
  {
   "cell_type": "code",
   "execution_count": 7,
   "metadata": {},
   "outputs": [],
   "source": [
    "State_indexer = StringIndexer(inputCol='STATENAME',outputCol='StateIndex')\n",
    "State_encoder = OneHotEncoder(inputCol='StateIndex',outputCol='StateVec')\n",
    "\n",
    "Activity_indexer = StringIndexer(inputCol='ACTIVITYESTIMATE',outputCol='ActivityIndex')\n",
    "Activity_encoder = OneHotEncoder(inputCol='ActivityIndex',outputCol='ActivityVec')\n",
    "\n",
    "Season_indexer = StringIndexer(inputCol='SEASON',outputCol='SeasonIndex')\n",
    "Season_encoder = OneHotEncoder(inputCol='SeasonIndex',outputCol='SeasonVec')"
   ]
  },
  {
   "cell_type": "code",
   "execution_count": 8,
   "metadata": {},
   "outputs": [],
   "source": [
    "assembler = VectorAssembler(\n",
    "  inputCols=['StateVec',\n",
    "             'WEEK',\n",
    "             'SeasonVec',\n",
    "             'POP',\n",
    "             'AREA',\n",
    "             'HealthCare_All',\n",
    "             'HealthCare_Under65',\n",
    "             'HealthCare_Under18',\n",
    "             'HealthCare_Over65',\n",
    "             'INCOME',\n",
    "             'TypeA_subH3',\n",
    "             'TypeA_subH1N1',\n",
    "             'TypeA',\n",
    "             'TypeA_subH3N2',\n",
    "             'TypeA_subU',\n",
    "             'TypeA_subH1',\n",
    "             'TypeB'],\n",
    "    outputCol=\"features\")\n",
    "\n",
    "#,\n",
    "#             'TypeA_subH3',\n",
    "#             'TypeA_subH1N1',\n",
    "#             'TypeA',\n",
    "#             'TypeA_subH3N2',\n",
    "#             'TypeA_subU',\n",
    "#             'TypeA_subH1',\n",
    "#             'TypeB'"
   ]
  },
  {
   "cell_type": "code",
   "execution_count": 15,
   "metadata": {},
   "outputs": [],
   "source": [
    "rf = RandomForestClassifier(labelCol=\"ActivityIndex\", featuresCol=\"features\", numTrees=20)"
   ]
  },
  {
   "cell_type": "code",
   "execution_count": 10,
   "metadata": {},
   "outputs": [],
   "source": [
    "pipeline = Pipeline(stages=[State_indexer,Activity_indexer,Season_indexer,\n",
    "                           State_encoder,Season_encoder,\n",
    "                           assembler,rf])"
   ]
  },
  {
   "cell_type": "code",
   "execution_count": 11,
   "metadata": {},
   "outputs": [],
   "source": [
    "(train, test) = traintest.randomSplit([0.9, 0.1])"
   ]
  },
  {
   "cell_type": "code",
   "execution_count": 16,
   "metadata": {},
   "outputs": [
    {
     "name": "stderr",
     "output_type": "stream",
     "text": [
      "ERROR:root:Exception while sending command.\n",
      "Traceback (most recent call last):\n",
      "  File \"/home/ubuntu/spark-2.1.1-bin-hadoop2.7/python/lib/py4j-0.10.4-src.zip/py4j/java_gateway.py\", line 1035, in send_command\n",
      "    raise Py4JNetworkError(\"Answer from Java side is empty\")\n",
      "py4j.protocol.Py4JNetworkError: Answer from Java side is empty\n",
      "\n",
      "During handling of the above exception, another exception occurred:\n",
      "\n",
      "Traceback (most recent call last):\n",
      "  File \"/home/ubuntu/spark-2.1.1-bin-hadoop2.7/python/lib/py4j-0.10.4-src.zip/py4j/java_gateway.py\", line 883, in send_command\n",
      "    response = connection.send_command(command)\n",
      "  File \"/home/ubuntu/spark-2.1.1-bin-hadoop2.7/python/lib/py4j-0.10.4-src.zip/py4j/java_gateway.py\", line 1040, in send_command\n",
      "    \"Error while receiving\", e, proto.ERROR_ON_RECEIVE)\n",
      "py4j.protocol.Py4JNetworkError: Error while receiving\n"
     ]
    },
    {
     "ename": "Py4JError",
     "evalue": "An error occurred while calling o196.fit",
     "output_type": "error",
     "traceback": [
      "\u001b[0;31m---------------------------------------------------------------------------\u001b[0m",
      "\u001b[0;31mPy4JError\u001b[0m                                 Traceback (most recent call last)",
      "\u001b[0;32m<ipython-input-16-f3ae5df2b545>\u001b[0m in \u001b[0;36m<module>\u001b[0;34m()\u001b[0m\n\u001b[0;32m----> 1\u001b[0;31m \u001b[0mfit_model\u001b[0m \u001b[0;34m=\u001b[0m \u001b[0mpipeline\u001b[0m\u001b[0;34m.\u001b[0m\u001b[0mfit\u001b[0m\u001b[0;34m(\u001b[0m\u001b[0mtrain\u001b[0m\u001b[0;34m)\u001b[0m\u001b[0;34m\u001b[0m\u001b[0m\n\u001b[0m",
      "\u001b[0;32m~/spark-2.1.1-bin-hadoop2.7/python/pyspark/ml/base.py\u001b[0m in \u001b[0;36mfit\u001b[0;34m(self, dataset, params)\u001b[0m\n\u001b[1;32m     62\u001b[0m                 \u001b[0;32mreturn\u001b[0m \u001b[0mself\u001b[0m\u001b[0;34m.\u001b[0m\u001b[0mcopy\u001b[0m\u001b[0;34m(\u001b[0m\u001b[0mparams\u001b[0m\u001b[0;34m)\u001b[0m\u001b[0;34m.\u001b[0m\u001b[0m_fit\u001b[0m\u001b[0;34m(\u001b[0m\u001b[0mdataset\u001b[0m\u001b[0;34m)\u001b[0m\u001b[0;34m\u001b[0m\u001b[0m\n\u001b[1;32m     63\u001b[0m             \u001b[0;32melse\u001b[0m\u001b[0;34m:\u001b[0m\u001b[0;34m\u001b[0m\u001b[0m\n\u001b[0;32m---> 64\u001b[0;31m                 \u001b[0;32mreturn\u001b[0m \u001b[0mself\u001b[0m\u001b[0;34m.\u001b[0m\u001b[0m_fit\u001b[0m\u001b[0;34m(\u001b[0m\u001b[0mdataset\u001b[0m\u001b[0;34m)\u001b[0m\u001b[0;34m\u001b[0m\u001b[0m\n\u001b[0m\u001b[1;32m     65\u001b[0m         \u001b[0;32melse\u001b[0m\u001b[0;34m:\u001b[0m\u001b[0;34m\u001b[0m\u001b[0m\n\u001b[1;32m     66\u001b[0m             raise ValueError(\"Params must be either a param map or a list/tuple of param maps, \"\n",
      "\u001b[0;32m~/spark-2.1.1-bin-hadoop2.7/python/pyspark/ml/pipeline.py\u001b[0m in \u001b[0;36m_fit\u001b[0;34m(self, dataset)\u001b[0m\n\u001b[1;32m    106\u001b[0m                     \u001b[0mdataset\u001b[0m \u001b[0;34m=\u001b[0m \u001b[0mstage\u001b[0m\u001b[0;34m.\u001b[0m\u001b[0mtransform\u001b[0m\u001b[0;34m(\u001b[0m\u001b[0mdataset\u001b[0m\u001b[0;34m)\u001b[0m\u001b[0;34m\u001b[0m\u001b[0m\n\u001b[1;32m    107\u001b[0m                 \u001b[0;32melse\u001b[0m\u001b[0;34m:\u001b[0m  \u001b[0;31m# must be an Estimator\u001b[0m\u001b[0;34m\u001b[0m\u001b[0m\n\u001b[0;32m--> 108\u001b[0;31m                     \u001b[0mmodel\u001b[0m \u001b[0;34m=\u001b[0m \u001b[0mstage\u001b[0m\u001b[0;34m.\u001b[0m\u001b[0mfit\u001b[0m\u001b[0;34m(\u001b[0m\u001b[0mdataset\u001b[0m\u001b[0;34m)\u001b[0m\u001b[0;34m\u001b[0m\u001b[0m\n\u001b[0m\u001b[1;32m    109\u001b[0m                     \u001b[0mtransformers\u001b[0m\u001b[0;34m.\u001b[0m\u001b[0mappend\u001b[0m\u001b[0;34m(\u001b[0m\u001b[0mmodel\u001b[0m\u001b[0;34m)\u001b[0m\u001b[0;34m\u001b[0m\u001b[0m\n\u001b[1;32m    110\u001b[0m                     \u001b[0;32mif\u001b[0m \u001b[0mi\u001b[0m \u001b[0;34m<\u001b[0m \u001b[0mindexOfLastEstimator\u001b[0m\u001b[0;34m:\u001b[0m\u001b[0;34m\u001b[0m\u001b[0m\n",
      "\u001b[0;32m~/spark-2.1.1-bin-hadoop2.7/python/pyspark/ml/base.py\u001b[0m in \u001b[0;36mfit\u001b[0;34m(self, dataset, params)\u001b[0m\n\u001b[1;32m     62\u001b[0m                 \u001b[0;32mreturn\u001b[0m \u001b[0mself\u001b[0m\u001b[0;34m.\u001b[0m\u001b[0mcopy\u001b[0m\u001b[0;34m(\u001b[0m\u001b[0mparams\u001b[0m\u001b[0;34m)\u001b[0m\u001b[0;34m.\u001b[0m\u001b[0m_fit\u001b[0m\u001b[0;34m(\u001b[0m\u001b[0mdataset\u001b[0m\u001b[0;34m)\u001b[0m\u001b[0;34m\u001b[0m\u001b[0m\n\u001b[1;32m     63\u001b[0m             \u001b[0;32melse\u001b[0m\u001b[0;34m:\u001b[0m\u001b[0;34m\u001b[0m\u001b[0m\n\u001b[0;32m---> 64\u001b[0;31m                 \u001b[0;32mreturn\u001b[0m \u001b[0mself\u001b[0m\u001b[0;34m.\u001b[0m\u001b[0m_fit\u001b[0m\u001b[0;34m(\u001b[0m\u001b[0mdataset\u001b[0m\u001b[0;34m)\u001b[0m\u001b[0;34m\u001b[0m\u001b[0m\n\u001b[0m\u001b[1;32m     65\u001b[0m         \u001b[0;32melse\u001b[0m\u001b[0;34m:\u001b[0m\u001b[0;34m\u001b[0m\u001b[0m\n\u001b[1;32m     66\u001b[0m             raise ValueError(\"Params must be either a param map or a list/tuple of param maps, \"\n",
      "\u001b[0;32m~/spark-2.1.1-bin-hadoop2.7/python/pyspark/ml/wrapper.py\u001b[0m in \u001b[0;36m_fit\u001b[0;34m(self, dataset)\u001b[0m\n\u001b[1;32m    234\u001b[0m \u001b[0;34m\u001b[0m\u001b[0m\n\u001b[1;32m    235\u001b[0m     \u001b[0;32mdef\u001b[0m \u001b[0m_fit\u001b[0m\u001b[0;34m(\u001b[0m\u001b[0mself\u001b[0m\u001b[0;34m,\u001b[0m \u001b[0mdataset\u001b[0m\u001b[0;34m)\u001b[0m\u001b[0;34m:\u001b[0m\u001b[0;34m\u001b[0m\u001b[0m\n\u001b[0;32m--> 236\u001b[0;31m         \u001b[0mjava_model\u001b[0m \u001b[0;34m=\u001b[0m \u001b[0mself\u001b[0m\u001b[0;34m.\u001b[0m\u001b[0m_fit_java\u001b[0m\u001b[0;34m(\u001b[0m\u001b[0mdataset\u001b[0m\u001b[0;34m)\u001b[0m\u001b[0;34m\u001b[0m\u001b[0m\n\u001b[0m\u001b[1;32m    237\u001b[0m         \u001b[0;32mreturn\u001b[0m \u001b[0mself\u001b[0m\u001b[0;34m.\u001b[0m\u001b[0m_create_model\u001b[0m\u001b[0;34m(\u001b[0m\u001b[0mjava_model\u001b[0m\u001b[0;34m)\u001b[0m\u001b[0;34m\u001b[0m\u001b[0m\n\u001b[1;32m    238\u001b[0m \u001b[0;34m\u001b[0m\u001b[0m\n",
      "\u001b[0;32m~/spark-2.1.1-bin-hadoop2.7/python/pyspark/ml/wrapper.py\u001b[0m in \u001b[0;36m_fit_java\u001b[0;34m(self, dataset)\u001b[0m\n\u001b[1;32m    231\u001b[0m         \"\"\"\n\u001b[1;32m    232\u001b[0m         \u001b[0mself\u001b[0m\u001b[0;34m.\u001b[0m\u001b[0m_transfer_params_to_java\u001b[0m\u001b[0;34m(\u001b[0m\u001b[0;34m)\u001b[0m\u001b[0;34m\u001b[0m\u001b[0m\n\u001b[0;32m--> 233\u001b[0;31m         \u001b[0;32mreturn\u001b[0m \u001b[0mself\u001b[0m\u001b[0;34m.\u001b[0m\u001b[0m_java_obj\u001b[0m\u001b[0;34m.\u001b[0m\u001b[0mfit\u001b[0m\u001b[0;34m(\u001b[0m\u001b[0mdataset\u001b[0m\u001b[0;34m.\u001b[0m\u001b[0m_jdf\u001b[0m\u001b[0;34m)\u001b[0m\u001b[0;34m\u001b[0m\u001b[0m\n\u001b[0m\u001b[1;32m    234\u001b[0m \u001b[0;34m\u001b[0m\u001b[0m\n\u001b[1;32m    235\u001b[0m     \u001b[0;32mdef\u001b[0m \u001b[0m_fit\u001b[0m\u001b[0;34m(\u001b[0m\u001b[0mself\u001b[0m\u001b[0;34m,\u001b[0m \u001b[0mdataset\u001b[0m\u001b[0;34m)\u001b[0m\u001b[0;34m:\u001b[0m\u001b[0;34m\u001b[0m\u001b[0m\n",
      "\u001b[0;32m~/spark-2.1.1-bin-hadoop2.7/python/lib/py4j-0.10.4-src.zip/py4j/java_gateway.py\u001b[0m in \u001b[0;36m__call__\u001b[0;34m(self, *args)\u001b[0m\n\u001b[1;32m   1131\u001b[0m         \u001b[0manswer\u001b[0m \u001b[0;34m=\u001b[0m \u001b[0mself\u001b[0m\u001b[0;34m.\u001b[0m\u001b[0mgateway_client\u001b[0m\u001b[0;34m.\u001b[0m\u001b[0msend_command\u001b[0m\u001b[0;34m(\u001b[0m\u001b[0mcommand\u001b[0m\u001b[0;34m)\u001b[0m\u001b[0;34m\u001b[0m\u001b[0m\n\u001b[1;32m   1132\u001b[0m         return_value = get_return_value(\n\u001b[0;32m-> 1133\u001b[0;31m             answer, self.gateway_client, self.target_id, self.name)\n\u001b[0m\u001b[1;32m   1134\u001b[0m \u001b[0;34m\u001b[0m\u001b[0m\n\u001b[1;32m   1135\u001b[0m         \u001b[0;32mfor\u001b[0m \u001b[0mtemp_arg\u001b[0m \u001b[0;32min\u001b[0m \u001b[0mtemp_args\u001b[0m\u001b[0;34m:\u001b[0m\u001b[0;34m\u001b[0m\u001b[0m\n",
      "\u001b[0;32m~/spark-2.1.1-bin-hadoop2.7/python/pyspark/sql/utils.py\u001b[0m in \u001b[0;36mdeco\u001b[0;34m(*a, **kw)\u001b[0m\n\u001b[1;32m     61\u001b[0m     \u001b[0;32mdef\u001b[0m \u001b[0mdeco\u001b[0m\u001b[0;34m(\u001b[0m\u001b[0;34m*\u001b[0m\u001b[0ma\u001b[0m\u001b[0;34m,\u001b[0m \u001b[0;34m**\u001b[0m\u001b[0mkw\u001b[0m\u001b[0;34m)\u001b[0m\u001b[0;34m:\u001b[0m\u001b[0;34m\u001b[0m\u001b[0m\n\u001b[1;32m     62\u001b[0m         \u001b[0;32mtry\u001b[0m\u001b[0;34m:\u001b[0m\u001b[0;34m\u001b[0m\u001b[0m\n\u001b[0;32m---> 63\u001b[0;31m             \u001b[0;32mreturn\u001b[0m \u001b[0mf\u001b[0m\u001b[0;34m(\u001b[0m\u001b[0;34m*\u001b[0m\u001b[0ma\u001b[0m\u001b[0;34m,\u001b[0m \u001b[0;34m**\u001b[0m\u001b[0mkw\u001b[0m\u001b[0;34m)\u001b[0m\u001b[0;34m\u001b[0m\u001b[0m\n\u001b[0m\u001b[1;32m     64\u001b[0m         \u001b[0;32mexcept\u001b[0m \u001b[0mpy4j\u001b[0m\u001b[0;34m.\u001b[0m\u001b[0mprotocol\u001b[0m\u001b[0;34m.\u001b[0m\u001b[0mPy4JJavaError\u001b[0m \u001b[0;32mas\u001b[0m \u001b[0me\u001b[0m\u001b[0;34m:\u001b[0m\u001b[0;34m\u001b[0m\u001b[0m\n\u001b[1;32m     65\u001b[0m             \u001b[0ms\u001b[0m \u001b[0;34m=\u001b[0m \u001b[0me\u001b[0m\u001b[0;34m.\u001b[0m\u001b[0mjava_exception\u001b[0m\u001b[0;34m.\u001b[0m\u001b[0mtoString\u001b[0m\u001b[0;34m(\u001b[0m\u001b[0;34m)\u001b[0m\u001b[0;34m\u001b[0m\u001b[0m\n",
      "\u001b[0;32m~/spark-2.1.1-bin-hadoop2.7/python/lib/py4j-0.10.4-src.zip/py4j/protocol.py\u001b[0m in \u001b[0;36mget_return_value\u001b[0;34m(answer, gateway_client, target_id, name)\u001b[0m\n\u001b[1;32m    325\u001b[0m             raise Py4JError(\n\u001b[1;32m    326\u001b[0m                 \u001b[0;34m\"An error occurred while calling {0}{1}{2}\"\u001b[0m\u001b[0;34m.\u001b[0m\u001b[0;34m\u001b[0m\u001b[0m\n\u001b[0;32m--> 327\u001b[0;31m                 format(target_id, \".\", name))\n\u001b[0m\u001b[1;32m    328\u001b[0m     \u001b[0;32melse\u001b[0m\u001b[0;34m:\u001b[0m\u001b[0;34m\u001b[0m\u001b[0m\n\u001b[1;32m    329\u001b[0m         \u001b[0mtype\u001b[0m \u001b[0;34m=\u001b[0m \u001b[0manswer\u001b[0m\u001b[0;34m[\u001b[0m\u001b[0;36m1\u001b[0m\u001b[0;34m]\u001b[0m\u001b[0;34m\u001b[0m\u001b[0m\n",
      "\u001b[0;31mPy4JError\u001b[0m: An error occurred while calling o196.fit"
     ]
    }
   ],
   "source": [
    "fit_model = pipeline.fit(train)"
   ]
  },
  {
   "cell_type": "code",
   "execution_count": null,
   "metadata": {},
   "outputs": [],
   "source": [
    "prediction_rf = fit_model.transform(test)\n"
   ]
  },
  {
   "cell_type": "code",
   "execution_count": null,
   "metadata": {},
   "outputs": [],
   "source": [
    "prediction_rf.show(5)"
   ]
  },
  {
   "cell_type": "code",
   "execution_count": 14,
   "metadata": {},
   "outputs": [
    {
     "name": "stdout",
     "output_type": "stream",
     "text": [
      "Test Error = 0.45109\n"
     ]
    }
   ],
   "source": [
    "evaluator = MulticlassClassificationEvaluator(labelCol=\"ActivityIndex\", predictionCol=\"prediction\", metricName=\"accuracy\")\n",
    "accuracy = evaluator.evaluate(prediction_rf)\n",
    "print(\"Test Error = %g\" % (1.0 - accuracy))"
   ]
  },
  {
   "cell_type": "code",
   "execution_count": null,
   "metadata": {},
   "outputs": [],
   "source": []
  },
  {
   "cell_type": "code",
   "execution_count": null,
   "metadata": {},
   "outputs": [],
   "source": []
  },
  {
   "cell_type": "code",
   "execution_count": null,
   "metadata": {},
   "outputs": [],
   "source": []
  },
  {
   "cell_type": "code",
   "execution_count": null,
   "metadata": {},
   "outputs": [],
   "source": []
  }
 ],
 "metadata": {
  "kernelspec": {
   "display_name": "Python 3",
   "language": "python",
   "name": "python3"
  },
  "language_info": {
   "codemirror_mode": {
    "name": "ipython",
    "version": 3
   },
   "file_extension": ".py",
   "mimetype": "text/x-python",
   "name": "python",
   "nbconvert_exporter": "python",
   "pygments_lexer": "ipython3",
   "version": "3.5.2"
  }
 },
 "nbformat": 4,
 "nbformat_minor": 2
}
